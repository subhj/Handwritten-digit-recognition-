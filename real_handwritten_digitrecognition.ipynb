{
  "nbformat": 4,
  "nbformat_minor": 0,
  "metadata": {
    "colab": {
      "provenance": [],
      "mount_file_id": "1K-K68BTdKRlM3WITnPJeZRF9_vi0DMc6",
      "authorship_tag": "ABX9TyN57CSmduC9O0Ug5nYKp4u0",
      "include_colab_link": true
    },
    "kernelspec": {
      "name": "python3",
      "display_name": "Python 3"
    },
    "language_info": {
      "name": "python"
    }
  },
  "cells": [
    {
      "cell_type": "markdown",
      "metadata": {
        "id": "view-in-github",
        "colab_type": "text"
      },
      "source": [
        "<a href=\"https://colab.research.google.com/github/subhj/Handwritten-digit-recognition-/blob/main/real_handwritten_digitrecognition.ipynb\" target=\"_parent\"><img src=\"https://colab.research.google.com/assets/colab-badge.svg\" alt=\"Open In Colab\"/></a>"
      ]
    },
    {
      "cell_type": "code",
      "execution_count": null,
      "metadata": {
        "id": "VieeOlrqztGW"
      },
      "outputs": [],
      "source": [
        "import tensorflow\n",
        "from tensorflow import keras\n",
        "from tensorflow.keras import Sequential\n",
        "from tensorflow.keras.layers import Dense,Flatten"
      ]
    },
    {
      "cell_type": "code",
      "source": [
        "(x_train,y_train),(x_test,y_test) =keras.datasets.mnist.load_data()"
      ],
      "metadata": {
        "id": "CiipOAlXzyGz",
        "colab": {
          "base_uri": "https://localhost:8080/"
        },
        "outputId": "cbc802e1-ec0c-41fe-a9dc-ca99796dbe7c"
      },
      "execution_count": null,
      "outputs": [
        {
          "output_type": "stream",
          "name": "stdout",
          "text": [
            "Downloading data from https://storage.googleapis.com/tensorflow/tf-keras-datasets/mnist.npz\n",
            "11490434/11490434 [==============================] - 0s 0us/step\n"
          ]
        }
      ]
    },
    {
      "cell_type": "code",
      "source": [
        "x_test.shape\n"
      ],
      "metadata": {
        "id": "lu6ZwAVzzyJw",
        "colab": {
          "base_uri": "https://localhost:8080/"
        },
        "outputId": "f273a76f-2e8f-4ded-b225-1ad96244119a"
      },
      "execution_count": null,
      "outputs": [
        {
          "output_type": "execute_result",
          "data": {
            "text/plain": [
              "(10000, 28, 28)"
            ]
          },
          "metadata": {},
          "execution_count": 3
        }
      ]
    },
    {
      "cell_type": "code",
      "source": [
        "y_train"
      ],
      "metadata": {
        "colab": {
          "base_uri": "https://localhost:8080/"
        },
        "id": "_muQnliY5crx",
        "outputId": "95eebbad-6419-427d-c5bc-300763b95371"
      },
      "execution_count": null,
      "outputs": [
        {
          "output_type": "execute_result",
          "data": {
            "text/plain": [
              "array([5, 0, 4, ..., 5, 6, 8], dtype=uint8)"
            ]
          },
          "metadata": {},
          "execution_count": 4
        }
      ]
    },
    {
      "cell_type": "code",
      "source": [
        "import matplotlib.pyplot as plt\n",
        "plt.imshow(x_train[4])\n"
      ],
      "metadata": {
        "id": "PiN0JD8yzyMd",
        "colab": {
          "base_uri": "https://localhost:8080/",
          "height": 448
        },
        "outputId": "0d8d3de5-066e-43a3-8633-4681562f0cc6"
      },
      "execution_count": null,
      "outputs": [
        {
          "output_type": "execute_result",
          "data": {
            "text/plain": [
              "<matplotlib.image.AxesImage at 0x7f3878f64640>"
            ]
          },
          "metadata": {},
          "execution_count": 5
        },
        {
          "output_type": "display_data",
          "data": {
            "text/plain": [
              "<Figure size 640x480 with 1 Axes>"
            ],
            "image/png": "[encoded data removed]"
          },
          "metadata": {}
        }
      ]
    },
    {
      "cell_type": "code",
      "source": [
        "x_train = x_train/255\n",
        "x_test = x_test/255"
      ],
      "metadata": {
        "id": "32G-xdP9zyO_"
      },
      "execution_count": null,
      "outputs": []
    },
    {
      "cell_type": "code",
      "source": [
        "x_test[0]"
      ],
      "metadata": {
        "id": "38aWojkXzyRL",
        "colab": {
          "base_uri": "https://localhost:8080/"
        },
        "outputId": "e59fa5ef-8a21-453c-c1fa-b9273a48da70"
      },
      "execution_count": null,
      "outputs": [
        {
          "output_type": "execute_result",
          "data": {
            "text/plain": [
              "array([[0.        , 0.        , 0.        , 0.        , 0.        ,\n",
              "        0.        , 0.        , 0.        , 0.        , 0.        ,\n",
              "        0.        , 0.        , 0.        , 0.        , 0.        ,\n",
              "        0.        , 0.        , 0.        , 0.        , 0.        ,\n",
              "        0.        , 0.        , 0.        , 0.        , 0.        ,\n",
              "        0.        , 0.        , 0.        ],\n",
              "       [0.        , 0.        , 0.        , 0.        , 0.        ,\n",
              "        0.        , 0.        , 0.        , 0.        , 0.        ,\n",
              "        0.        , 0.        , 0.        , 0.        , 0.        ,\n",
              "        0.        , 0.        , 0.        , 0.        , 0.        ,\n",
              "        0.        , 0.        , 0.        , 0.        , 0.        ,\n",
              "        0.        , 0.        , 0.        ],\n",
              "       [0.        , 0.        , 0.        , 0.        , 0.        ,\n",
              "        0.        , 0.        , 0.        , 0.        , 0.        ,\n",
              "        0.        , 0.        , 0.        , 0.        , 0.        ,\n",
              "        0.        , 0.        , 0.        , 0.        , 0.        ,\n",
              "        0.        , 0.        , 0.        , 0.        , 0.        ,\n",
              "        0.        , 0.        , 0.        ],\n",
              "       [0.        , 0.        , 0.        , 0.        , 0.        ,\n",
              "        0.        , 0.        , 0.        , 0.        , 0.        ,\n",
              "        0.        , 0.        , 0.        , 0.        , 0.        ,\n",
              "        0.        , 0.        , 0.        , 0.        , 0.        ,\n",
              "        0.        , 0.        , 0.        , 0.        , 0.        ,\n",
              "        0.        , 0.        , 0.        ],\n",
              "       [0.        , 0.        , 0.        , 0.        , 0.        ,\n",
              "        0.        , 0.        , 0.        , 0.        , 0.        ,\n",
              "        0.        , 0.        , 0.        , 0.        , 0.        ,\n",
              "        0.        , 0.        , 0.        , 0.        , 0.        ,\n",
              "        0.        , 0.        , 0.        , 0.        , 0.        ,\n",
              "        0.        , 0.        , 0.        ],\n",
              "       [0.        , 0.        , 0.        , 0.        , 0.        ,\n",
              "        0.        , 0.        , 0.        , 0.        , 0.        ,\n",
              "        0.        , 0.        , 0.        , 0.        , 0.        ,\n",
              "        0.        , 0.        , 0.        , 0.        , 0.        ,\n",
              "        0.        , 0.        , 0.        , 0.        , 0.        ,\n",
              "        0.        , 0.        , 0.        ],\n",
              "       [0.        , 0.        , 0.        , 0.        , 0.        ,\n",
              "        0.        , 0.        , 0.        , 0.        , 0.        ,\n",
              "        0.        , 0.        , 0.        , 0.        , 0.        ,\n",
              "        0.        , 0.        , 0.        , 0.        , 0.        ,\n",
              "        0.        , 0.        , 0.        , 0.        , 0.        ,\n",
              "        0.        , 0.        , 0.        ],\n",
              "       [0.        , 0.        , 0.        , 0.        , 0.        ,\n",
              "        0.        , 0.32941176, 0.7254902 , 0.62352941, 0.59215686,\n",
              "        0.23529412, 0.14117647, 0.        , 0.        , 0.        ,\n",
              "        0.        , 0.        , 0.        , 0.        , 0.        ,\n",
              "        0.        , 0.        , 0.        , 0.        , 0.        ,\n",
              "        0.        , 0.        , 0.        ],\n",
              "       [0.        , 0.        , 0.        , 0.        , 0.        ,\n",
              "        0.        , 0.87058824, 0.99607843, 0.99607843, 0.99607843,\n",
              "        0.99607843, 0.94509804, 0.77647059, 0.77647059, 0.77647059,\n",
              "        0.77647059, 0.77647059, 0.77647059, 0.77647059, 0.77647059,\n",
              "        0.66666667, 0.20392157, 0.        , 0.        , 0.        ,\n",
              "        0.        , 0.        , 0.        ],\n",
              "       [0.        , 0.        , 0.        , 0.        , 0.        ,\n",
              "        0.        , 0.2627451 , 0.44705882, 0.28235294, 0.44705882,\n",
              "        0.63921569, 0.89019608, 0.99607843, 0.88235294, 0.99607843,\n",
              "        0.99607843, 0.99607843, 0.98039216, 0.89803922, 0.99607843,\n",
              "        0.99607843, 0.54901961, 0.        , 0.        , 0.        ,\n",
              "        0.        , 0.        , 0.        ],\n",
              "       [0.        , 0.        , 0.        , 0.        , 0.        ,\n",
              "        0.        , 0.        , 0.        , 0.        , 0.        ,\n",
              "        0.        , 0.06666667, 0.25882353, 0.05490196, 0.2627451 ,\n",
              "        0.2627451 , 0.2627451 , 0.23137255, 0.08235294, 0.9254902 ,\n",
              "        0.99607843, 0.41568627, 0.        , 0.        , 0.        ,\n",
              "        0.        , 0.        , 0.        ],\n",
              "       [0.        , 0.        , 0.        , 0.        , 0.        ,\n",
              "        0.        , 0.        , 0.        , 0.        , 0.        ,\n",
              "        0.        , 0.        , 0.        , 0.        , 0.        ,\n",
              "        0.        , 0.        , 0.        , 0.3254902 , 0.99215686,\n",
              "        0.81960784, 0.07058824, 0.        , 0.        , 0.        ,\n",
              "        0.        , 0.        , 0.        ],\n",
              "       [0.        , 0.        , 0.        , 0.        , 0.        ,\n",
              "        0.        , 0.        , 0.        , 0.        , 0.        ,\n",
              "        0.        , 0.        , 0.        , 0.        , 0.        ,\n",
              "        0.        , 0.        , 0.08627451, 0.91372549, 1.        ,\n",
              "        0.3254902 , 0.        , 0.        , 0.        , 0.        ,\n",
              "        0.        , 0.        , 0.        ],\n",
              "       [0.        , 0.        , 0.        , 0.        , 0.        ,\n",
              "        0.        , 0.        , 0.        , 0.        , 0.        ,\n",
              "        0.        , 0.        , 0.        , 0.        , 0.        ,\n",
              "        0.        , 0.        , 0.50588235, 0.99607843, 0.93333333,\n",
              "        0.17254902, 0.        , 0.        , 0.        , 0.        ,\n",
              "        0.        , 0.        , 0.        ],\n",
              "       [0.        , 0.        , 0.        , 0.        , 0.        ,\n",
              "        0.        , 0.        , 0.        , 0.        , 0.        ,\n",
              "        0.        , 0.        , 0.        , 0.        , 0.        ,\n",
              "        0.        , 0.23137255, 0.97647059, 0.99607843, 0.24313725,\n",
              "        0.        , 0.        , 0.        , 0.        , 0.        ,\n",
              "        0.        , 0.        , 0.        ],\n",
              "       [0.        , 0.        , 0.        , 0.        , 0.        ,\n",
              "        0.        , 0.        , 0.        , 0.        , 0.        ,\n",
              "        0.        , 0.        , 0.        , 0.        , 0.        ,\n",
              "        0.        , 0.52156863, 0.99607843, 0.73333333, 0.01960784,\n",
              "        0.        , 0.        , 0.        , 0.        , 0.        ,\n",
              "        0.        , 0.        , 0.        ],\n",
              "       [0.        , 0.        , 0.        , 0.        , 0.        ,\n",
              "        0.        , 0.        , 0.        , 0.        , 0.        ,\n",
              "        0.        , 0.        , 0.        , 0.        , 0.        ,\n",
              "        0.03529412, 0.80392157, 0.97254902, 0.22745098, 0.        ,\n",
              "        0.        , 0.        , 0.        , 0.        , 0.        ,\n",
              "        0.        , 0.        , 0.        ],\n",
              "       [0.        , 0.        , 0.        , 0.        , 0.        ,\n",
              "        0.        , 0.        , 0.        , 0.        , 0.        ,\n",
              "        0.        , 0.        , 0.        , 0.        , 0.        ,\n",
              "        0.49411765, 0.99607843, 0.71372549, 0.        , 0.        ,\n",
              "        0.        , 0.        , 0.        , 0.        , 0.        ,\n",
              "        0.        , 0.        , 0.        ],\n",
              "       [0.        , 0.        , 0.        , 0.        , 0.        ,\n",
              "        0.        , 0.        , 0.        , 0.        , 0.        ,\n",
              "        0.        , 0.        , 0.        , 0.        , 0.29411765,\n",
              "        0.98431373, 0.94117647, 0.22352941, 0.        , 0.        ,\n",
              "        0.        , 0.        , 0.        , 0.        , 0.        ,\n",
              "        0.        , 0.        , 0.        ],\n",
              "       [0.        , 0.        , 0.        , 0.        , 0.        ,\n",
              "        0.        , 0.        , 0.        , 0.        , 0.        ,\n",
              "        0.        , 0.        , 0.        , 0.0745098 , 0.86666667,\n",
              "        0.99607843, 0.65098039, 0.        , 0.        , 0.        ,\n",
              "        0.        , 0.        , 0.        , 0.        , 0.        ,\n",
              "        0.        , 0.        , 0.        ],\n",
              "       [0.        , 0.        , 0.        , 0.        , 0.        ,\n",
              "        0.        , 0.        , 0.        , 0.        , 0.        ,\n",
              "        0.        , 0.        , 0.01176471, 0.79607843, 0.99607843,\n",
              "        0.85882353, 0.1372549 , 0.        , 0.        , 0.        ,\n",
              "        0.        , 0.        , 0.        , 0.        , 0.        ,\n",
              "        0.        , 0.        , 0.        ],\n",
              "       [0.        , 0.        , 0.        , 0.        , 0.        ,\n",
              "        0.        , 0.        , 0.        , 0.        , 0.        ,\n",
              "        0.        , 0.        , 0.14901961, 0.99607843, 0.99607843,\n",
              "        0.30196078, 0.        , 0.        , 0.        , 0.        ,\n",
              "        0.        , 0.        , 0.        , 0.        , 0.        ,\n",
              "        0.        , 0.        , 0.        ],\n",
              "       [0.        , 0.        , 0.        , 0.        , 0.        ,\n",
              "        0.        , 0.        , 0.        , 0.        , 0.        ,\n",
              "        0.        , 0.12156863, 0.87843137, 0.99607843, 0.45098039,\n",
              "        0.00392157, 0.        , 0.        , 0.        , 0.        ,\n",
              "        0.        , 0.        , 0.        , 0.        , 0.        ,\n",
              "        0.        , 0.        , 0.        ],\n",
              "       [0.        , 0.        , 0.        , 0.        , 0.        ,\n",
              "        0.        , 0.        , 0.        , 0.        , 0.        ,\n",
              "        0.        , 0.52156863, 0.99607843, 0.99607843, 0.20392157,\n",
              "        0.        , 0.        , 0.        , 0.        , 0.        ,\n",
              "        0.        , 0.        , 0.        , 0.        , 0.        ,\n",
              "        0.        , 0.        , 0.        ],\n",
              "       [0.        , 0.        , 0.        , 0.        , 0.        ,\n",
              "        0.        , 0.        , 0.        , 0.        , 0.        ,\n",
              "        0.23921569, 0.94901961, 0.99607843, 0.99607843, 0.20392157,\n",
              "        0.        , 0.        , 0.        , 0.        , 0.        ,\n",
              "        0.        , 0.        , 0.        , 0.        , 0.        ,\n",
              "        0.        , 0.        , 0.        ],\n",
              "       [0.        , 0.        , 0.        , 0.        , 0.        ,\n",
              "        0.        , 0.        , 0.        , 0.        , 0.        ,\n",
              "        0.4745098 , 0.99607843, 0.99607843, 0.85882353, 0.15686275,\n",
              "        0.        , 0.        , 0.        , 0.        , 0.        ,\n",
              "        0.        , 0.        , 0.        , 0.        , 0.        ,\n",
              "        0.        , 0.        , 0.        ],\n",
              "       [0.        , 0.        , 0.        , 0.        , 0.        ,\n",
              "        0.        , 0.        , 0.        , 0.        , 0.        ,\n",
              "        0.4745098 , 0.99607843, 0.81176471, 0.07058824, 0.        ,\n",
              "        0.        , 0.        , 0.        , 0.        , 0.        ,\n",
              "        0.        , 0.        , 0.        , 0.        , 0.        ,\n",
              "        0.        , 0.        , 0.        ],\n",
              "       [0.        , 0.        , 0.        , 0.        , 0.        ,\n",
              "        0.        , 0.        , 0.        , 0.        , 0.        ,\n",
              "        0.        , 0.        , 0.        , 0.        , 0.        ,\n",
              "        0.        , 0.        , 0.        , 0.        , 0.        ,\n",
              "        0.        , 0.        , 0.        , 0.        , 0.        ,\n",
              "        0.        , 0.        , 0.        ]])"
            ]
          },
          "metadata": {},
          "execution_count": 7
        }
      ]
    },
    {
      "cell_type": "code",
      "source": [
        "model = Sequential()\n",
        "model.add(Flatten(input_shape=(28,28)))\n",
        "model.add(Dense(128,activation='relu'))\n",
        "model.add(Dense(10,activation='softmax'))"
      ],
      "metadata": {
        "id": "1LkpbE96zyVa"
      },
      "execution_count": null,
      "outputs": []
    },
    {
      "cell_type": "code",
      "source": [
        "model.summary()"
      ],
      "metadata": {
        "id": "AAr8ei8TzyYv",
        "colab": {
          "base_uri": "https://localhost:8080/"
        },
        "outputId": "58f6b7a0-07f2-4fd1-d899-dfafea2ce1fa"
      },
      "execution_count": null,
      "outputs": [
        {
          "output_type": "stream",
          "name": "stdout",
          "text": [
            "Model: \"sequential\"\n",
            "_________________________________________________________________\n",
            " Layer (type)                Output Shape              Param #   \n",
            "=================================================================\n",
            " flatten (Flatten)           (None, 784)               0         \n",
            "                                                                 \n",
            " dense (Dense)               (None, 128)               100480    \n",
            "                                                                 \n",
            " dense_1 (Dense)             (None, 10)                1290      \n",
            "                                                                 \n",
            "=================================================================\n",
            "Total params: 101,770\n",
            "Trainable params: 101,770\n",
            "Non-trainable params: 0\n",
            "_________________________________________________________________\n"
          ]
        }
      ]
    },
    {
      "cell_type": "code",
      "source": [
        "model.compile(loss='sparse_categorical_crossentropy',optimizer = 'Adam',metrics=['accuracy'])"
      ],
      "metadata": {
        "id": "JPMzYHE32Le7"
      },
      "execution_count": null,
      "outputs": []
    },
    {
      "cell_type": "code",
      "source": [
        "model.fit(x_train,y_train,epochs=250,validation_split=0.2)"
      ],
      "metadata": {
        "colab": {
          "base_uri": "https://localhost:8080/"
        },
        "id": "uLV0DLY62LiM",
        "outputId": "35982133-d0a3-40fe-e30b-2479aeff9ee6"
      },
      "execution_count": null,
      "outputs": [
        {
          "output_type": "stream",
          "name": "stdout",
          "text": [
            "Epoch 1/250\n",
            "1500/1500 [==============================] - 6s 4ms/step - loss: 6.3082e-10 - accuracy: 1.0000 - val_loss: 0.3019 - val_accuracy: 0.9797\n",
            "Epoch 2/250\n",
            "1500/1500 [==============================] - 8s 5ms/step - loss: 5.6624e-10 - accuracy: 1.0000 - val_loss: 0.3021 - val_accuracy: 0.9797\n",
            "Epoch 3/250\n",
            "1500/1500 [==============================] - 6s 4ms/step - loss: 5.9853e-10 - accuracy: 1.0000 - val_loss: 0.3023 - val_accuracy: 0.9797\n",
            "Epoch 4/250\n",
            "1500/1500 [==============================] - 8s 5ms/step - loss: 5.3147e-10 - accuracy: 1.0000 - val_loss: 0.3024 - val_accuracy: 0.9797\n",
            "Epoch 5/250\n",
            "1500/1500 [==============================] - 6s 4ms/step - loss: 5.4141e-10 - accuracy: 1.0000 - val_loss: 0.3027 - val_accuracy: 0.9797\n",
            "Epoch 6/250\n",
            "1500/1500 [==============================] - 8s 5ms/step - loss: 5.4389e-10 - accuracy: 1.0000 - val_loss: 0.3028 - val_accuracy: 0.9798\n",
            "Epoch 7/250\n",
            "1500/1500 [==============================] - 6s 4ms/step - loss: 5.0416e-10 - accuracy: 1.0000 - val_loss: 0.3029 - val_accuracy: 0.9798\n",
            "Epoch 8/250\n",
            "1500/1500 [==============================] - 8s 5ms/step - loss: 4.8677e-10 - accuracy: 1.0000 - val_loss: 0.3030 - val_accuracy: 0.9798\n",
            "Epoch 9/250\n",
            "1500/1500 [==============================] - 6s 4ms/step - loss: 4.8429e-10 - accuracy: 1.0000 - val_loss: 0.3032 - val_accuracy: 0.9797\n",
            "Epoch 10/250\n",
            "1500/1500 [==============================] - 8s 5ms/step - loss: 4.6690e-10 - accuracy: 1.0000 - val_loss: 0.3034 - val_accuracy: 0.9797\n",
            "Epoch 11/250\n",
            "1500/1500 [==============================] - 6s 4ms/step - loss: 4.6442e-10 - accuracy: 1.0000 - val_loss: 0.3036 - val_accuracy: 0.9798\n",
            "Epoch 12/250\n",
            "1500/1500 [==============================] - 8s 5ms/step - loss: 4.4952e-10 - accuracy: 1.0000 - val_loss: 0.3035 - val_accuracy: 0.9797\n",
            "Epoch 13/250\n",
            "1500/1500 [==============================] - 6s 4ms/step - loss: 4.3710e-10 - accuracy: 1.0000 - val_loss: 0.3038 - val_accuracy: 0.9797\n",
            "Epoch 14/250\n",
            "1500/1500 [==============================] - 8s 5ms/step - loss: 4.5200e-10 - accuracy: 1.0000 - val_loss: 0.3036 - val_accuracy: 0.9797\n",
            "Epoch 15/250\n",
            "1500/1500 [==============================] - 7s 5ms/step - loss: 3.9985e-10 - accuracy: 1.0000 - val_loss: 0.3040 - val_accuracy: 0.9797\n",
            "Epoch 16/250\n",
            "1500/1500 [==============================] - 8s 5ms/step - loss: 4.2965e-10 - accuracy: 1.0000 - val_loss: 0.3042 - val_accuracy: 0.9797\n",
            "Epoch 17/250\n",
            "1500/1500 [==============================] - 6s 4ms/step - loss: 3.8991e-10 - accuracy: 1.0000 - val_loss: 0.3043 - val_accuracy: 0.9797\n",
            "Epoch 18/250\n",
            "1500/1500 [==============================] - 8s 6ms/step - loss: 4.2965e-10 - accuracy: 1.0000 - val_loss: 0.3044 - val_accuracy: 0.9797\n",
            "Epoch 19/250\n",
            "1500/1500 [==============================] - 6s 4ms/step - loss: 4.0233e-10 - accuracy: 1.0000 - val_loss: 0.3045 - val_accuracy: 0.9797\n",
            "Epoch 20/250\n",
            "1500/1500 [==============================] - 8s 5ms/step - loss: 3.8246e-10 - accuracy: 1.0000 - val_loss: 0.3047 - val_accuracy: 0.9796\n",
            "Epoch 21/250\n",
            "1500/1500 [==============================] - 6s 4ms/step - loss: 4.1723e-10 - accuracy: 1.0000 - val_loss: 0.3048 - val_accuracy: 0.9796\n",
            "Epoch 22/250\n",
            "1500/1500 [==============================] - 8s 5ms/step - loss: 3.6508e-10 - accuracy: 1.0000 - val_loss: 0.3050 - val_accuracy: 0.9796\n",
            "Epoch 23/250\n",
            "1500/1500 [==============================] - 6s 4ms/step - loss: 3.7998e-10 - accuracy: 1.0000 - val_loss: 0.3050 - val_accuracy: 0.9796\n",
            "Epoch 24/250\n",
            "1500/1500 [==============================] - 7s 5ms/step - loss: 3.8991e-10 - accuracy: 1.0000 - val_loss: 0.3054 - val_accuracy: 0.9797\n",
            "Epoch 25/250\n",
            "1500/1500 [==============================] - 7s 5ms/step - loss: 3.8743e-10 - accuracy: 1.0000 - val_loss: 0.3055 - val_accuracy: 0.9796\n",
            "Epoch 26/250\n",
            "1500/1500 [==============================] - 7s 5ms/step - loss: 3.7005e-10 - accuracy: 1.0000 - val_loss: 0.3056 - val_accuracy: 0.9796\n",
            "Epoch 27/250\n",
            "1500/1500 [==============================] - 7s 5ms/step - loss: 3.8743e-10 - accuracy: 1.0000 - val_loss: 0.3060 - val_accuracy: 0.9797\n",
            "Epoch 28/250\n",
            "1500/1500 [==============================] - 7s 4ms/step - loss: 3.6756e-10 - accuracy: 1.0000 - val_loss: 0.3061 - val_accuracy: 0.9795\n",
            "Epoch 29/250\n",
            "1500/1500 [==============================] - 7s 5ms/step - loss: 3.6756e-10 - accuracy: 1.0000 - val_loss: 0.3063 - val_accuracy: 0.9797\n",
            "Epoch 30/250\n",
            "1500/1500 [==============================] - 6s 4ms/step - loss: 3.7005e-10 - accuracy: 1.0000 - val_loss: 0.3064 - val_accuracy: 0.9796\n",
            "Epoch 31/250\n",
            "1500/1500 [==============================] - 8s 5ms/step - loss: 3.8246e-10 - accuracy: 1.0000 - val_loss: 0.3068 - val_accuracy: 0.9795\n",
            "Epoch 32/250\n",
            "1500/1500 [==============================] - 6s 4ms/step - loss: 3.7501e-10 - accuracy: 1.0000 - val_loss: 0.3070 - val_accuracy: 0.9795\n",
            "Epoch 33/250\n",
            "1500/1500 [==============================] - 8s 5ms/step - loss: 3.6259e-10 - accuracy: 1.0000 - val_loss: 0.3070 - val_accuracy: 0.9795\n",
            "Epoch 34/250\n",
            "1500/1500 [==============================] - 6s 4ms/step - loss: 3.4273e-10 - accuracy: 1.0000 - val_loss: 0.3072 - val_accuracy: 0.9795\n",
            "Epoch 35/250\n",
            "1500/1500 [==============================] - 8s 5ms/step - loss: 3.6508e-10 - accuracy: 1.0000 - val_loss: 0.3073 - val_accuracy: 0.9796\n",
            "Epoch 36/250\n",
            "1500/1500 [==============================] - 6s 4ms/step - loss: 3.4024e-10 - accuracy: 1.0000 - val_loss: 0.3078 - val_accuracy: 0.9794\n",
            "Epoch 37/250\n",
            "1500/1500 [==============================] - 8s 5ms/step - loss: 4.0233e-10 - accuracy: 1.0000 - val_loss: 0.3079 - val_accuracy: 0.9794\n",
            "Epoch 38/250\n",
            "1500/1500 [==============================] - 6s 4ms/step - loss: 3.5266e-10 - accuracy: 1.0000 - val_loss: 0.3081 - val_accuracy: 0.9794\n",
            "Epoch 39/250\n",
            "1500/1500 [==============================] - 8s 5ms/step - loss: 3.5514e-10 - accuracy: 1.0000 - val_loss: 0.3082 - val_accuracy: 0.9794\n",
            "Epoch 40/250\n",
            "1500/1500 [==============================] - 6s 4ms/step - loss: 3.6011e-10 - accuracy: 1.0000 - val_loss: 0.3084 - val_accuracy: 0.9793\n",
            "Epoch 41/250\n",
            "1500/1500 [==============================] - 8s 5ms/step - loss: 3.4024e-10 - accuracy: 1.0000 - val_loss: 0.3089 - val_accuracy: 0.9793\n",
            "Epoch 42/250\n",
            "1500/1500 [==============================] - 6s 4ms/step - loss: 3.4521e-10 - accuracy: 1.0000 - val_loss: 0.3090 - val_accuracy: 0.9793\n",
            "Epoch 43/250\n",
            "1500/1500 [==============================] - 9s 6ms/step - loss: 3.3031e-10 - accuracy: 1.0000 - val_loss: 0.3092 - val_accuracy: 0.9794\n",
            "Epoch 44/250\n",
            "1500/1500 [==============================] - 7s 5ms/step - loss: 3.2783e-10 - accuracy: 1.0000 - val_loss: 0.3096 - val_accuracy: 0.9792\n",
            "Epoch 45/250\n",
            "1500/1500 [==============================] - 9s 6ms/step - loss: 3.6508e-10 - accuracy: 1.0000 - val_loss: 0.3096 - val_accuracy: 0.9793\n",
            "Epoch 46/250\n",
            "1500/1500 [==============================] - 7s 4ms/step - loss: 3.6011e-10 - accuracy: 1.0000 - val_loss: 0.3097 - val_accuracy: 0.9793\n",
            "Epoch 47/250\n",
            "1500/1500 [==============================] - 8s 5ms/step - loss: 3.5018e-10 - accuracy: 1.0000 - val_loss: 0.3100 - val_accuracy: 0.9793\n",
            "Epoch 48/250\n",
            "1500/1500 [==============================] - 6s 4ms/step - loss: 3.4273e-10 - accuracy: 1.0000 - val_loss: 0.3103 - val_accuracy: 0.9793\n",
            "Epoch 49/250\n",
            "1500/1500 [==============================] - 8s 5ms/step - loss: 3.4521e-10 - accuracy: 1.0000 - val_loss: 0.3105 - val_accuracy: 0.9794\n",
            "Epoch 50/250\n",
            "1500/1500 [==============================] - 6s 4ms/step - loss: 3.5514e-10 - accuracy: 1.0000 - val_loss: 0.3107 - val_accuracy: 0.9792\n",
            "Epoch 51/250\n",
            "1500/1500 [==============================] - 8s 5ms/step - loss: 3.5018e-10 - accuracy: 1.0000 - val_loss: 0.3110 - val_accuracy: 0.9793\n",
            "Epoch 52/250\n",
            "1500/1500 [==============================] - 6s 4ms/step - loss: 3.6508e-10 - accuracy: 1.0000 - val_loss: 0.3113 - val_accuracy: 0.9793\n",
            "Epoch 53/250\n",
            "1500/1500 [==============================] - 8s 5ms/step - loss: 3.5018e-10 - accuracy: 1.0000 - val_loss: 0.3113 - val_accuracy: 0.9793\n",
            "Epoch 54/250\n",
            "1500/1500 [==============================] - 6s 4ms/step - loss: 3.4273e-10 - accuracy: 1.0000 - val_loss: 0.3117 - val_accuracy: 0.9793\n",
            "Epoch 55/250\n",
            "1500/1500 [==============================] - 8s 5ms/step - loss: 3.4024e-10 - accuracy: 1.0000 - val_loss: 0.3119 - val_accuracy: 0.9793\n",
            "Epoch 56/250\n",
            "1500/1500 [==============================] - 6s 4ms/step - loss: 3.4769e-10 - accuracy: 1.0000 - val_loss: 0.3119 - val_accuracy: 0.9793\n",
            "Epoch 57/250\n",
            "1500/1500 [==============================] - 8s 5ms/step - loss: 3.6756e-10 - accuracy: 1.0000 - val_loss: 0.3122 - val_accuracy: 0.9793\n",
            "Epoch 58/250\n",
            "1500/1500 [==============================] - 6s 4ms/step - loss: 3.6508e-10 - accuracy: 1.0000 - val_loss: 0.3126 - val_accuracy: 0.9793\n",
            "Epoch 59/250\n",
            "1500/1500 [==============================] - 8s 5ms/step - loss: 3.4024e-10 - accuracy: 1.0000 - val_loss: 0.3127 - val_accuracy: 0.9792\n",
            "Epoch 60/250\n",
            "1500/1500 [==============================] - 6s 4ms/step - loss: 3.4273e-10 - accuracy: 1.0000 - val_loss: 0.3130 - val_accuracy: 0.9791\n",
            "Epoch 61/250\n",
            "1500/1500 [==============================] - 8s 5ms/step - loss: 3.5266e-10 - accuracy: 1.0000 - val_loss: 0.3133 - val_accuracy: 0.9793\n",
            "Epoch 62/250\n",
            "1500/1500 [==============================] - 6s 4ms/step - loss: 3.4521e-10 - accuracy: 1.0000 - val_loss: 0.3133 - val_accuracy: 0.9792\n",
            "Epoch 63/250\n",
            "1500/1500 [==============================] - 8s 5ms/step - loss: 3.4024e-10 - accuracy: 1.0000 - val_loss: 0.3137 - val_accuracy: 0.9793\n",
            "Epoch 64/250\n",
            "1500/1500 [==============================] - 6s 4ms/step - loss: 3.7253e-10 - accuracy: 1.0000 - val_loss: 0.3139 - val_accuracy: 0.9793\n",
            "Epoch 65/250\n",
            "1500/1500 [==============================] - 7s 5ms/step - loss: 3.5018e-10 - accuracy: 1.0000 - val_loss: 0.3141 - val_accuracy: 0.9793\n",
            "Epoch 66/250\n",
            "1500/1500 [==============================] - 7s 4ms/step - loss: 3.6259e-10 - accuracy: 1.0000 - val_loss: 0.3143 - val_accuracy: 0.9793\n",
            "Epoch 67/250\n",
            "1500/1500 [==============================] - 7s 5ms/step - loss: 3.8495e-10 - accuracy: 1.0000 - val_loss: 0.3145 - val_accuracy: 0.9793\n",
            "Epoch 68/250\n",
            "1500/1500 [==============================] - 7s 5ms/step - loss: 3.5266e-10 - accuracy: 1.0000 - val_loss: 0.3149 - val_accuracy: 0.9793\n",
            "Epoch 69/250\n",
            "1500/1500 [==============================] - 6s 4ms/step - loss: 3.7005e-10 - accuracy: 1.0000 - val_loss: 0.3152 - val_accuracy: 0.9793\n",
            "Epoch 70/250\n",
            "1500/1500 [==============================] - 8s 5ms/step - loss: 3.6259e-10 - accuracy: 1.0000 - val_loss: 0.3154 - val_accuracy: 0.9792\n",
            "Epoch 71/250\n",
            "1500/1500 [==============================] - 7s 5ms/step - loss: 3.6756e-10 - accuracy: 1.0000 - val_loss: 0.3157 - val_accuracy: 0.9792\n",
            "Epoch 72/250\n",
            "1500/1500 [==============================] - 7s 5ms/step - loss: 3.5514e-10 - accuracy: 1.0000 - val_loss: 0.3159 - val_accuracy: 0.9792\n",
            "Epoch 73/250\n",
            "1500/1500 [==============================] - 7s 5ms/step - loss: 3.8743e-10 - accuracy: 1.0000 - val_loss: 0.3162 - val_accuracy: 0.9793\n",
            "Epoch 74/250\n",
            "1500/1500 [==============================] - 7s 5ms/step - loss: 3.5514e-10 - accuracy: 1.0000 - val_loss: 0.3165 - val_accuracy: 0.9793\n",
            "Epoch 75/250\n",
            "1500/1500 [==============================] - 7s 5ms/step - loss: 3.9488e-10 - accuracy: 1.0000 - val_loss: 0.3165 - val_accuracy: 0.9793\n",
            "Epoch 76/250\n",
            "1500/1500 [==============================] - 7s 5ms/step - loss: 3.7501e-10 - accuracy: 1.0000 - val_loss: 0.3170 - val_accuracy: 0.9792\n",
            "Epoch 77/250\n",
            "1500/1500 [==============================] - 6s 4ms/step - loss: 3.9240e-10 - accuracy: 1.0000 - val_loss: 0.3171 - val_accuracy: 0.9792\n",
            "Epoch 78/250\n",
            "1500/1500 [==============================] - 8s 5ms/step - loss: 3.8495e-10 - accuracy: 1.0000 - val_loss: 0.3173 - val_accuracy: 0.9790\n",
            "Epoch 79/250\n",
            "1500/1500 [==============================] - 6s 4ms/step - loss: 3.8246e-10 - accuracy: 1.0000 - val_loss: 0.3176 - val_accuracy: 0.9791\n",
            "Epoch 80/250\n",
            "1500/1500 [==============================] - 8s 5ms/step - loss: 3.8991e-10 - accuracy: 1.0000 - val_loss: 0.3179 - val_accuracy: 0.9790\n",
            "Epoch 81/250\n",
            "1500/1500 [==============================] - 6s 4ms/step - loss: 4.0730e-10 - accuracy: 1.0000 - val_loss: 0.3180 - val_accuracy: 0.9790\n",
            "Epoch 82/250\n",
            "1500/1500 [==============================] - 8s 5ms/step - loss: 3.8991e-10 - accuracy: 1.0000 - val_loss: 0.3184 - val_accuracy: 0.9790\n",
            "Epoch 83/250\n",
            "1500/1500 [==============================] - 6s 4ms/step - loss: 3.8743e-10 - accuracy: 1.0000 - val_loss: 0.3183 - val_accuracy: 0.9791\n",
            "Epoch 84/250\n",
            "1500/1500 [==============================] - 8s 5ms/step - loss: 4.0481e-10 - accuracy: 1.0000 - val_loss: 0.3187 - val_accuracy: 0.9791\n",
            "Epoch 85/250\n",
            "1500/1500 [==============================] - 6s 4ms/step - loss: 4.0978e-10 - accuracy: 1.0000 - val_loss: 0.3189 - val_accuracy: 0.9791\n",
            "Epoch 86/250\n",
            "1500/1500 [==============================] - 8s 5ms/step - loss: 4.0481e-10 - accuracy: 1.0000 - val_loss: 0.3188 - val_accuracy: 0.9791\n",
            "Epoch 87/250\n",
            "1500/1500 [==============================] - 6s 4ms/step - loss: 4.0730e-10 - accuracy: 1.0000 - val_loss: 0.3193 - val_accuracy: 0.9791\n",
            "Epoch 88/250\n",
            "1500/1500 [==============================] - 8s 5ms/step - loss: 4.3462e-10 - accuracy: 1.0000 - val_loss: 0.3193 - val_accuracy: 0.9791\n",
            "Epoch 89/250\n",
            "1500/1500 [==============================] - 6s 4ms/step - loss: 4.1475e-10 - accuracy: 1.0000 - val_loss: 0.3193 - val_accuracy: 0.9791\n",
            "Epoch 90/250\n",
            "1500/1500 [==============================] - 8s 5ms/step - loss: 4.2220e-10 - accuracy: 1.0000 - val_loss: 0.3196 - val_accuracy: 0.9791\n",
            "Epoch 91/250\n",
            "1500/1500 [==============================] - 6s 4ms/step - loss: 4.0730e-10 - accuracy: 1.0000 - val_loss: 0.3198 - val_accuracy: 0.9790\n",
            "Epoch 92/250\n",
            "1500/1500 [==============================] - 8s 5ms/step - loss: 4.1475e-10 - accuracy: 1.0000 - val_loss: 0.3201 - val_accuracy: 0.9790\n",
            "Epoch 93/250\n",
            "1500/1500 [==============================] - 6s 4ms/step - loss: 4.4207e-10 - accuracy: 1.0000 - val_loss: 0.3201 - val_accuracy: 0.9790\n",
            "Epoch 94/250\n",
            "1500/1500 [==============================] - 8s 5ms/step - loss: 3.8495e-10 - accuracy: 1.0000 - val_loss: 0.3204 - val_accuracy: 0.9789\n",
            "Epoch 95/250\n",
            "1500/1500 [==============================] - 6s 4ms/step - loss: 4.0978e-10 - accuracy: 1.0000 - val_loss: 0.3206 - val_accuracy: 0.9789\n",
            "Epoch 96/250\n",
            "1500/1500 [==============================] - 8s 5ms/step - loss: 4.0481e-10 - accuracy: 1.0000 - val_loss: 0.3207 - val_accuracy: 0.9790\n",
            "Epoch 97/250\n",
            "1500/1500 [==============================] - 6s 4ms/step - loss: 4.1723e-10 - accuracy: 1.0000 - val_loss: 0.3210 - val_accuracy: 0.9789\n",
            "Epoch 98/250\n",
            "1500/1500 [==============================] - 9s 6ms/step - loss: 4.5449e-10 - accuracy: 1.0000 - val_loss: 0.3215 - val_accuracy: 0.9789\n",
            "Epoch 99/250\n",
            "1500/1500 [==============================] - 6s 4ms/step - loss: 4.1723e-10 - accuracy: 1.0000 - val_loss: 0.3217 - val_accuracy: 0.9789\n",
            "Epoch 100/250\n",
            "1500/1500 [==============================] - 9s 6ms/step - loss: 4.4952e-10 - accuracy: 1.0000 - val_loss: 0.3216 - val_accuracy: 0.9789\n",
            "Epoch 101/250\n",
            "1500/1500 [==============================] - 6s 4ms/step - loss: 4.2717e-10 - accuracy: 1.0000 - val_loss: 0.3217 - val_accuracy: 0.9789\n",
            "Epoch 102/250\n",
            "1500/1500 [==============================] - 8s 5ms/step - loss: 4.4703e-10 - accuracy: 1.0000 - val_loss: 0.3221 - val_accuracy: 0.9789\n",
            "Epoch 103/250\n",
            "1500/1500 [==============================] - 6s 4ms/step - loss: 4.6194e-10 - accuracy: 1.0000 - val_loss: 0.3222 - val_accuracy: 0.9789\n",
            "Epoch 104/250\n",
            "1500/1500 [==============================] - 8s 5ms/step - loss: 4.4455e-10 - accuracy: 1.0000 - val_loss: 0.3227 - val_accuracy: 0.9790\n",
            "Epoch 105/250\n",
            "1500/1500 [==============================] - 6s 4ms/step - loss: 4.3213e-10 - accuracy: 1.0000 - val_loss: 0.3228 - val_accuracy: 0.9790\n",
            "Epoch 106/250\n",
            "1500/1500 [==============================] - 8s 5ms/step - loss: 4.6690e-10 - accuracy: 1.0000 - val_loss: 0.3228 - val_accuracy: 0.9790\n",
            "Epoch 107/250\n",
            "1500/1500 [==============================] - 6s 4ms/step - loss: 4.7684e-10 - accuracy: 1.0000 - val_loss: 0.3230 - val_accuracy: 0.9789\n",
            "Epoch 108/250\n",
            "1500/1500 [==============================] - 8s 5ms/step - loss: 4.4952e-10 - accuracy: 1.0000 - val_loss: 0.3233 - val_accuracy: 0.9790\n",
            "Epoch 109/250\n",
            "1500/1500 [==============================] - 6s 4ms/step - loss: 4.9174e-10 - accuracy: 1.0000 - val_loss: 0.3234 - val_accuracy: 0.9791\n",
            "Epoch 110/250\n",
            "1500/1500 [==============================] - 8s 5ms/step - loss: 4.6939e-10 - accuracy: 1.0000 - val_loss: 0.3238 - val_accuracy: 0.9790\n",
            "Epoch 111/250\n",
            "1500/1500 [==============================] - 6s 4ms/step - loss: 4.5697e-10 - accuracy: 1.0000 - val_loss: 0.3240 - val_accuracy: 0.9790\n",
            "Epoch 112/250\n",
            "1500/1500 [==============================] - 7s 5ms/step - loss: 4.6939e-10 - accuracy: 1.0000 - val_loss: 0.3241 - val_accuracy: 0.9791\n",
            "Epoch 113/250\n",
            "1500/1500 [==============================] - 7s 4ms/step - loss: 4.6939e-10 - accuracy: 1.0000 - val_loss: 0.3243 - val_accuracy: 0.9789\n",
            "Epoch 114/250\n",
            "1500/1500 [==============================] - 7s 5ms/step - loss: 4.7932e-10 - accuracy: 1.0000 - val_loss: 0.3247 - val_accuracy: 0.9789\n",
            "Epoch 115/250\n",
            "1500/1500 [==============================] - 7s 4ms/step - loss: 5.0664e-10 - accuracy: 1.0000 - val_loss: 0.3248 - val_accuracy: 0.9787\n",
            "Epoch 116/250\n",
            "1500/1500 [==============================] - 6s 4ms/step - loss: 5.2402e-10 - accuracy: 1.0000 - val_loss: 0.3249 - val_accuracy: 0.9789\n",
            "Epoch 117/250\n",
            "1500/1500 [==============================] - 7s 5ms/step - loss: 5.0664e-10 - accuracy: 1.0000 - val_loss: 0.3254 - val_accuracy: 0.9787\n",
            "Epoch 118/250\n",
            "1500/1500 [==============================] - 6s 4ms/step - loss: 4.8429e-10 - accuracy: 1.0000 - val_loss: 0.3256 - val_accuracy: 0.9787\n",
            "Epoch 119/250\n",
            "1500/1500 [==============================] - 8s 5ms/step - loss: 5.4389e-10 - accuracy: 1.0000 - val_loss: 0.3258 - val_accuracy: 0.9788\n",
            "Epoch 120/250\n",
            "1500/1500 [==============================] - 6s 4ms/step - loss: 5.0912e-10 - accuracy: 1.0000 - val_loss: 0.3257 - val_accuracy: 0.9789\n",
            "Epoch 121/250\n",
            "1500/1500 [==============================] - 8s 5ms/step - loss: 5.1409e-10 - accuracy: 1.0000 - val_loss: 0.3262 - val_accuracy: 0.9787\n",
            "Epoch 122/250\n",
            "1500/1500 [==============================] - 6s 4ms/step - loss: 5.1657e-10 - accuracy: 1.0000 - val_loss: 0.3263 - val_accuracy: 0.9787\n",
            "Epoch 123/250\n",
            "1500/1500 [==============================] - 8s 5ms/step - loss: 5.3147e-10 - accuracy: 1.0000 - val_loss: 0.3263 - val_accuracy: 0.9787\n",
            "Epoch 124/250\n",
            "1500/1500 [==============================] - 6s 4ms/step - loss: 5.2651e-10 - accuracy: 1.0000 - val_loss: 0.3266 - val_accuracy: 0.9788\n",
            "Epoch 125/250\n",
            "1500/1500 [==============================] - 8s 5ms/step - loss: 5.3893e-10 - accuracy: 1.0000 - val_loss: 0.3267 - val_accuracy: 0.9788\n",
            "Epoch 126/250\n",
            "1500/1500 [==============================] - 6s 4ms/step - loss: 5.2651e-10 - accuracy: 1.0000 - val_loss: 0.3273 - val_accuracy: 0.9788\n",
            "Epoch 127/250\n",
            "1500/1500 [==============================] - 8s 5ms/step - loss: 5.4389e-10 - accuracy: 1.0000 - val_loss: 0.3273 - val_accuracy: 0.9790\n",
            "Epoch 128/250\n",
            "1500/1500 [==============================] - 6s 4ms/step - loss: 5.4141e-10 - accuracy: 1.0000 - val_loss: 0.3278 - val_accuracy: 0.9790\n",
            "Epoch 129/250\n",
            "1500/1500 [==============================] - 7s 5ms/step - loss: 5.6128e-10 - accuracy: 1.0000 - val_loss: 0.3278 - val_accuracy: 0.9790\n",
            "Epoch 130/250\n",
            "1500/1500 [==============================] - 6s 4ms/step - loss: 5.7369e-10 - accuracy: 1.0000 - val_loss: 0.3282 - val_accuracy: 0.9789\n",
            "Epoch 131/250\n",
            "1500/1500 [==============================] - 8s 5ms/step - loss: 5.6873e-10 - accuracy: 1.0000 - val_loss: 0.3284 - val_accuracy: 0.9789\n",
            "Epoch 132/250\n",
            "1500/1500 [==============================] - 7s 4ms/step - loss: 6.2088e-10 - accuracy: 1.0000 - val_loss: 0.3283 - val_accuracy: 0.9789\n",
            "Epoch 133/250\n",
            "1500/1500 [==============================] - 8s 5ms/step - loss: 5.6128e-10 - accuracy: 1.0000 - val_loss: 0.3287 - val_accuracy: 0.9789\n",
            "Epoch 134/250\n",
            "1500/1500 [==============================] - 7s 4ms/step - loss: 5.5879e-10 - accuracy: 1.0000 - val_loss: 0.3288 - val_accuracy: 0.9789\n",
            "Epoch 135/250\n",
            "1500/1500 [==============================] - 8s 5ms/step - loss: 5.8115e-10 - accuracy: 1.0000 - val_loss: 0.3292 - val_accuracy: 0.9789\n",
            "Epoch 136/250\n",
            "1500/1500 [==============================] - 6s 4ms/step - loss: 6.1343e-10 - accuracy: 1.0000 - val_loss: 0.3295 - val_accuracy: 0.9789\n",
            "Epoch 137/250\n",
            "1500/1500 [==============================] - 8s 5ms/step - loss: 5.9605e-10 - accuracy: 1.0000 - val_loss: 0.3295 - val_accuracy: 0.9789\n",
            "Epoch 138/250\n",
            "1500/1500 [==============================] - 6s 4ms/step - loss: 6.0101e-10 - accuracy: 1.0000 - val_loss: 0.3299 - val_accuracy: 0.9790\n",
            "Epoch 139/250\n",
            "1500/1500 [==============================] - 7s 5ms/step - loss: 6.1840e-10 - accuracy: 1.0000 - val_loss: 0.3297 - val_accuracy: 0.9789\n",
            "Epoch 140/250\n",
            "1500/1500 [==============================] - 7s 4ms/step - loss: 6.2585e-10 - accuracy: 1.0000 - val_loss: 0.3301 - val_accuracy: 0.9791\n",
            "Epoch 141/250\n",
            "1500/1500 [==============================] - 7s 5ms/step - loss: 6.2088e-10 - accuracy: 1.0000 - val_loss: 0.3301 - val_accuracy: 0.9790\n",
            "Epoch 142/250\n",
            "1500/1500 [==============================] - 7s 5ms/step - loss: 5.9356e-10 - accuracy: 1.0000 - val_loss: 0.3304 - val_accuracy: 0.9790\n",
            "Epoch 143/250\n",
            "1500/1500 [==============================] - 7s 4ms/step - loss: 6.2585e-10 - accuracy: 1.0000 - val_loss: 0.3303 - val_accuracy: 0.9791\n",
            "Epoch 144/250\n",
            "1500/1500 [==============================] - 7s 5ms/step - loss: 5.9853e-10 - accuracy: 1.0000 - val_loss: 0.3311 - val_accuracy: 0.9789\n",
            "Epoch 145/250\n",
            "1500/1500 [==============================] - 7s 5ms/step - loss: 6.0598e-10 - accuracy: 1.0000 - val_loss: 0.3311 - val_accuracy: 0.9791\n",
            "Epoch 146/250\n",
            "1500/1500 [==============================] - 7s 5ms/step - loss: 6.4820e-10 - accuracy: 1.0000 - val_loss: 0.3310 - val_accuracy: 0.9791\n",
            "Epoch 147/250\n",
            "1500/1500 [==============================] - 7s 5ms/step - loss: 6.6062e-10 - accuracy: 1.0000 - val_loss: 0.3315 - val_accuracy: 0.9791\n",
            "Epoch 148/250\n",
            "1500/1500 [==============================] - 7s 5ms/step - loss: 6.1343e-10 - accuracy: 1.0000 - val_loss: 0.3315 - val_accuracy: 0.9790\n",
            "Epoch 149/250\n",
            "1500/1500 [==============================] - 6s 4ms/step - loss: 6.5068e-10 - accuracy: 1.0000 - val_loss: 0.3316 - val_accuracy: 0.9791\n",
            "Epoch 150/250\n",
            "1500/1500 [==============================] - 8s 5ms/step - loss: 6.4075e-10 - accuracy: 1.0000 - val_loss: 0.3317 - val_accuracy: 0.9789\n",
            "Epoch 151/250\n",
            "1500/1500 [==============================] - 6s 4ms/step - loss: 6.2585e-10 - accuracy: 1.0000 - val_loss: 0.3316 - val_accuracy: 0.9791\n",
            "Epoch 152/250\n",
            "1500/1500 [==============================] - 8s 5ms/step - loss: 6.7552e-10 - accuracy: 1.0000 - val_loss: 0.3318 - val_accuracy: 0.9791\n",
            "Epoch 153/250\n",
            "1500/1500 [==============================] - 6s 4ms/step - loss: 6.2833e-10 - accuracy: 1.0000 - val_loss: 0.3322 - val_accuracy: 0.9790\n",
            "Epoch 154/250\n",
            "1500/1500 [==============================] - 8s 5ms/step - loss: 6.8794e-10 - accuracy: 1.0000 - val_loss: 0.3325 - val_accuracy: 0.9790\n",
            "Epoch 155/250\n",
            "1500/1500 [==============================] - 6s 4ms/step - loss: 6.7055e-10 - accuracy: 1.0000 - val_loss: 0.3327 - val_accuracy: 0.9791\n",
            "Epoch 156/250\n",
            "1500/1500 [==============================] - 8s 5ms/step - loss: 6.6807e-10 - accuracy: 1.0000 - val_loss: 0.3329 - val_accuracy: 0.9789\n",
            "Epoch 157/250\n",
            "1500/1500 [==============================] - 6s 4ms/step - loss: 6.7800e-10 - accuracy: 1.0000 - val_loss: 0.3332 - val_accuracy: 0.9789\n",
            "Epoch 158/250\n",
            "1500/1500 [==============================] - 8s 6ms/step - loss: 6.8545e-10 - accuracy: 1.0000 - val_loss: 0.3332 - val_accuracy: 0.9791\n",
            "Epoch 159/250\n",
            "1500/1500 [==============================] - 6s 4ms/step - loss: 7.2022e-10 - accuracy: 1.0000 - val_loss: 0.3332 - val_accuracy: 0.9791\n",
            "Epoch 160/250\n",
            "1500/1500 [==============================] - 8s 5ms/step - loss: 6.8794e-10 - accuracy: 1.0000 - val_loss: 0.3335 - val_accuracy: 0.9789\n",
            "Epoch 161/250\n",
            "1500/1500 [==============================] - 6s 4ms/step - loss: 7.3016e-10 - accuracy: 1.0000 - val_loss: 0.3335 - val_accuracy: 0.9790\n",
            "Epoch 162/250\n",
            "1500/1500 [==============================] - 8s 5ms/step - loss: 6.8545e-10 - accuracy: 1.0000 - val_loss: 0.3338 - val_accuracy: 0.9792\n",
            "Epoch 163/250\n",
            "1500/1500 [==============================] - 6s 4ms/step - loss: 7.3016e-10 - accuracy: 1.0000 - val_loss: 0.3339 - val_accuracy: 0.9792\n",
            "Epoch 164/250\n",
            "1500/1500 [==============================] - 8s 6ms/step - loss: 7.2022e-10 - accuracy: 1.0000 - val_loss: 0.3342 - val_accuracy: 0.9789\n",
            "Epoch 165/250\n",
            "1500/1500 [==============================] - 6s 4ms/step - loss: 7.3761e-10 - accuracy: 1.0000 - val_loss: 0.3343 - val_accuracy: 0.9791\n",
            "Epoch 166/250\n",
            "1500/1500 [==============================] - 8s 5ms/step - loss: 6.8794e-10 - accuracy: 1.0000 - val_loss: 0.3347 - val_accuracy: 0.9792\n",
            "Epoch 167/250\n",
            "1500/1500 [==============================] - 6s 4ms/step - loss: 7.3016e-10 - accuracy: 1.0000 - val_loss: 0.3350 - val_accuracy: 0.9790\n",
            "Epoch 168/250\n",
            "1500/1500 [==============================] - 9s 6ms/step - loss: 7.8479e-10 - accuracy: 1.0000 - val_loss: 0.3346 - val_accuracy: 0.9793\n",
            "Epoch 169/250\n",
            "1500/1500 [==============================] - 6s 4ms/step - loss: 7.5499e-10 - accuracy: 1.0000 - val_loss: 0.3347 - val_accuracy: 0.9793\n",
            "Epoch 170/250\n",
            "1500/1500 [==============================] - 8s 5ms/step - loss: 7.0781e-10 - accuracy: 1.0000 - val_loss: 0.3352 - val_accuracy: 0.9791\n",
            "Epoch 171/250\n",
            "1500/1500 [==============================] - 6s 4ms/step - loss: 7.5003e-10 - accuracy: 1.0000 - val_loss: 0.3354 - val_accuracy: 0.9793\n",
            "Epoch 172/250\n",
            "1500/1500 [==============================] - 7s 5ms/step - loss: 7.5996e-10 - accuracy: 1.0000 - val_loss: 0.3359 - val_accuracy: 0.9793\n",
            "Epoch 173/250\n",
            "1500/1500 [==============================] - 6s 4ms/step - loss: 7.6493e-10 - accuracy: 1.0000 - val_loss: 0.3359 - val_accuracy: 0.9793\n",
            "Epoch 174/250\n",
            "1500/1500 [==============================] - 8s 5ms/step - loss: 7.6741e-10 - accuracy: 1.0000 - val_loss: 0.3361 - val_accuracy: 0.9795\n",
            "Epoch 175/250\n",
            "1500/1500 [==============================] - 7s 4ms/step - loss: 7.9721e-10 - accuracy: 1.0000 - val_loss: 0.3361 - val_accuracy: 0.9793\n",
            "Epoch 176/250\n",
            "1500/1500 [==============================] - 7s 5ms/step - loss: 7.6989e-10 - accuracy: 1.0000 - val_loss: 0.3365 - val_accuracy: 0.9793\n",
            "Epoch 177/250\n",
            "1500/1500 [==============================] - 7s 5ms/step - loss: 8.0963e-10 - accuracy: 1.0000 - val_loss: 0.3364 - val_accuracy: 0.9793\n",
            "Epoch 178/250\n",
            "1500/1500 [==============================] - 8s 5ms/step - loss: 7.6493e-10 - accuracy: 1.0000 - val_loss: 0.3367 - val_accuracy: 0.9793\n",
            "Epoch 179/250\n",
            "1500/1500 [==============================] - 7s 5ms/step - loss: 8.0963e-10 - accuracy: 1.0000 - val_loss: 0.3369 - val_accuracy: 0.9793\n",
            "Epoch 180/250\n",
            "1500/1500 [==============================] - 8s 5ms/step - loss: 7.7486e-10 - accuracy: 1.0000 - val_loss: 0.3375 - val_accuracy: 0.9793\n",
            "Epoch 181/250\n",
            "1500/1500 [==============================] - 6s 4ms/step - loss: 8.0466e-10 - accuracy: 1.0000 - val_loss: 0.3374 - val_accuracy: 0.9792\n",
            "Epoch 182/250\n",
            "1500/1500 [==============================] - 7s 5ms/step - loss: 7.9224e-10 - accuracy: 1.0000 - val_loss: 0.3381 - val_accuracy: 0.9791\n",
            "Epoch 183/250\n",
            "1500/1500 [==============================] - 7s 5ms/step - loss: 8.3446e-10 - accuracy: 1.0000 - val_loss: 0.3382 - val_accuracy: 0.9789\n",
            "Epoch 184/250\n",
            "1500/1500 [==============================] - 7s 4ms/step - loss: 8.0466e-10 - accuracy: 1.0000 - val_loss: 0.3383 - val_accuracy: 0.9791\n",
            "Epoch 185/250\n",
            "1500/1500 [==============================] - 7s 5ms/step - loss: 8.5185e-10 - accuracy: 1.0000 - val_loss: 0.3383 - val_accuracy: 0.9790\n",
            "Epoch 186/250\n",
            "1500/1500 [==============================] - 7s 5ms/step - loss: 8.2950e-10 - accuracy: 1.0000 - val_loss: 0.3388 - val_accuracy: 0.9791\n",
            "Epoch 187/250\n",
            "1500/1500 [==============================] - 7s 5ms/step - loss: 8.5682e-10 - accuracy: 1.0000 - val_loss: 0.3390 - val_accuracy: 0.9789\n",
            "Epoch 188/250\n",
            "1500/1500 [==============================] - 7s 5ms/step - loss: 7.9473e-10 - accuracy: 1.0000 - val_loss: 0.3397 - val_accuracy: 0.9790\n",
            "Epoch 189/250\n",
            "1500/1500 [==============================] - 7s 5ms/step - loss: 8.4688e-10 - accuracy: 1.0000 - val_loss: 0.3389 - val_accuracy: 0.9792\n",
            "Epoch 190/250\n",
            "1500/1500 [==============================] - 7s 5ms/step - loss: 8.2701e-10 - accuracy: 1.0000 - val_loss: 0.3395 - val_accuracy: 0.9790\n",
            "Epoch 191/250\n",
            "1500/1500 [==============================] - 8s 5ms/step - loss: 8.5682e-10 - accuracy: 1.0000 - val_loss: 0.3399 - val_accuracy: 0.9791\n",
            "Epoch 192/250\n",
            "1500/1500 [==============================] - 7s 5ms/step - loss: 8.6178e-10 - accuracy: 1.0000 - val_loss: 0.3400 - val_accuracy: 0.9790\n",
            "Epoch 193/250\n",
            "1500/1500 [==============================] - 7s 5ms/step - loss: 8.2950e-10 - accuracy: 1.0000 - val_loss: 0.3407 - val_accuracy: 0.9790\n",
            "Epoch 194/250\n",
            "1500/1500 [==============================] - 6s 4ms/step - loss: 9.0152e-10 - accuracy: 1.0000 - val_loss: 0.3408 - val_accuracy: 0.9787\n",
            "Epoch 195/250\n",
            "1500/1500 [==============================] - 8s 5ms/step - loss: 9.0152e-10 - accuracy: 1.0000 - val_loss: 0.3405 - val_accuracy: 0.9788\n",
            "Epoch 196/250\n",
            "1500/1500 [==============================] - 6s 4ms/step - loss: 8.7420e-10 - accuracy: 1.0000 - val_loss: 0.3413 - val_accuracy: 0.9789\n",
            "Epoch 197/250\n",
            "1500/1500 [==============================] - 8s 5ms/step - loss: 8.7917e-10 - accuracy: 1.0000 - val_loss: 0.3416 - val_accuracy: 0.9788\n",
            "Epoch 198/250\n",
            "1500/1500 [==============================] - 6s 4ms/step - loss: 8.6427e-10 - accuracy: 1.0000 - val_loss: 0.3416 - val_accuracy: 0.9789\n",
            "Epoch 199/250\n",
            "1500/1500 [==============================] - 8s 6ms/step - loss: 8.9407e-10 - accuracy: 1.0000 - val_loss: 0.3420 - val_accuracy: 0.9789\n",
            "Epoch 200/250\n",
            "1500/1500 [==============================] - 6s 4ms/step - loss: 8.6427e-10 - accuracy: 1.0000 - val_loss: 0.3421 - val_accuracy: 0.9787\n",
            "Epoch 201/250\n",
            "1500/1500 [==============================] - 8s 5ms/step - loss: 9.0897e-10 - accuracy: 1.0000 - val_loss: 0.3423 - val_accuracy: 0.9787\n",
            "Epoch 202/250\n",
            "1500/1500 [==============================] - 6s 4ms/step - loss: 9.2636e-10 - accuracy: 1.0000 - val_loss: 0.3420 - val_accuracy: 0.9787\n",
            "Epoch 203/250\n",
            "1500/1500 [==============================] - 8s 5ms/step - loss: 9.2636e-10 - accuracy: 1.0000 - val_loss: 0.3426 - val_accuracy: 0.9787\n",
            "Epoch 204/250\n",
            "1500/1500 [==============================] - 6s 4ms/step - loss: 9.2387e-10 - accuracy: 1.0000 - val_loss: 0.3429 - val_accuracy: 0.9787\n",
            "Epoch 205/250\n",
            "1500/1500 [==============================] - 8s 5ms/step - loss: 9.0649e-10 - accuracy: 1.0000 - val_loss: 0.3431 - val_accuracy: 0.9788\n",
            "Epoch 206/250\n",
            "1500/1500 [==============================] - 6s 4ms/step - loss: 9.1145e-10 - accuracy: 1.0000 - val_loss: 0.3437 - val_accuracy: 0.9786\n",
            "Epoch 207/250\n",
            "1500/1500 [==============================] - 8s 6ms/step - loss: 9.3381e-10 - accuracy: 1.0000 - val_loss: 0.3439 - val_accuracy: 0.9785\n",
            "Epoch 208/250\n",
            "1500/1500 [==============================] - 6s 4ms/step - loss: 9.4126e-10 - accuracy: 1.0000 - val_loss: 0.3438 - val_accuracy: 0.9786\n",
            "Epoch 209/250\n",
            "1500/1500 [==============================] - 8s 5ms/step - loss: 9.4374e-10 - accuracy: 1.0000 - val_loss: 0.3440 - val_accuracy: 0.9787\n",
            "Epoch 210/250\n",
            "1500/1500 [==============================] - 6s 4ms/step - loss: 9.1394e-10 - accuracy: 1.0000 - val_loss: 0.3449 - val_accuracy: 0.9786\n",
            "Epoch 211/250\n",
            "1500/1500 [==============================] - 8s 5ms/step - loss: 9.1394e-10 - accuracy: 1.0000 - val_loss: 0.3450 - val_accuracy: 0.9783\n",
            "Epoch 212/250\n",
            "1500/1500 [==============================] - 6s 4ms/step - loss: 9.7851e-10 - accuracy: 1.0000 - val_loss: 0.3450 - val_accuracy: 0.9784\n",
            "Epoch 213/250\n",
            "1500/1500 [==============================] - 8s 5ms/step - loss: 1.0158e-09 - accuracy: 1.0000 - val_loss: 0.3455 - val_accuracy: 0.9786\n",
            "Epoch 214/250\n",
            "1500/1500 [==============================] - 6s 4ms/step - loss: 9.7603e-10 - accuracy: 1.0000 - val_loss: 0.3454 - val_accuracy: 0.9787\n",
            "Epoch 215/250\n",
            "1500/1500 [==============================] - 8s 6ms/step - loss: 9.6609e-10 - accuracy: 1.0000 - val_loss: 0.3453 - val_accuracy: 0.9786\n",
            "Epoch 216/250\n",
            "1500/1500 [==============================] - 6s 4ms/step - loss: 1.0257e-09 - accuracy: 1.0000 - val_loss: 0.3453 - val_accuracy: 0.9787\n",
            "Epoch 217/250\n",
            "1500/1500 [==============================] - 9s 6ms/step - loss: 9.7851e-10 - accuracy: 1.0000 - val_loss: 0.3460 - val_accuracy: 0.9787\n",
            "Epoch 218/250\n",
            "1500/1500 [==============================] - 6s 4ms/step - loss: 9.9093e-10 - accuracy: 1.0000 - val_loss: 0.3460 - val_accuracy: 0.9787\n",
            "Epoch 219/250\n",
            "1500/1500 [==============================] - 8s 6ms/step - loss: 9.9838e-10 - accuracy: 1.0000 - val_loss: 0.3462 - val_accuracy: 0.9787\n",
            "Epoch 220/250\n",
            "1500/1500 [==============================] - 6s 4ms/step - loss: 9.8348e-10 - accuracy: 1.0000 - val_loss: 0.3470 - val_accuracy: 0.9788\n",
            "Epoch 221/250\n",
            "1500/1500 [==============================] - 8s 5ms/step - loss: 9.9093e-10 - accuracy: 1.0000 - val_loss: 0.3473 - val_accuracy: 0.9787\n",
            "Epoch 222/250\n",
            "1500/1500 [==============================] - 6s 4ms/step - loss: 1.0083e-09 - accuracy: 1.0000 - val_loss: 0.3477 - val_accuracy: 0.9787\n",
            "Epoch 223/250\n",
            "1500/1500 [==============================] - 8s 6ms/step - loss: 1.0207e-09 - accuracy: 1.0000 - val_loss: 0.3474 - val_accuracy: 0.9787\n",
            "Epoch 224/250\n",
            "1500/1500 [==============================] - 6s 4ms/step - loss: 1.0009e-09 - accuracy: 1.0000 - val_loss: 0.3480 - val_accuracy: 0.9789\n",
            "Epoch 225/250\n",
            "1500/1500 [==============================] - 8s 5ms/step - loss: 1.0456e-09 - accuracy: 1.0000 - val_loss: 0.3481 - val_accuracy: 0.9787\n",
            "Epoch 226/250\n",
            "1500/1500 [==============================] - 6s 4ms/step - loss: 1.0257e-09 - accuracy: 1.0000 - val_loss: 0.3495 - val_accuracy: 0.9786\n",
            "Epoch 227/250\n",
            "1500/1500 [==============================] - 8s 5ms/step - loss: 1.0828e-09 - accuracy: 1.0000 - val_loss: 0.3488 - val_accuracy: 0.9786\n",
            "Epoch 228/250\n",
            "1500/1500 [==============================] - 6s 4ms/step - loss: 1.0928e-09 - accuracy: 1.0000 - val_loss: 0.3496 - val_accuracy: 0.9787\n",
            "Epoch 229/250\n",
            "1500/1500 [==============================] - 8s 5ms/step - loss: 1.0853e-09 - accuracy: 1.0000 - val_loss: 0.3498 - val_accuracy: 0.9785\n",
            "Epoch 230/250\n",
            "1500/1500 [==============================] - 6s 4ms/step - loss: 1.0803e-09 - accuracy: 1.0000 - val_loss: 0.3504 - val_accuracy: 0.9786\n",
            "Epoch 231/250\n",
            "1500/1500 [==============================] - 8s 6ms/step - loss: 1.0605e-09 - accuracy: 1.0000 - val_loss: 0.3507 - val_accuracy: 0.9786\n",
            "Epoch 232/250\n",
            "1500/1500 [==============================] - 7s 4ms/step - loss: 1.1375e-09 - accuracy: 1.0000 - val_loss: 0.3513 - val_accuracy: 0.9784\n",
            "Epoch 233/250\n",
            "1500/1500 [==============================] - 8s 5ms/step - loss: 1.0704e-09 - accuracy: 1.0000 - val_loss: 0.3516 - val_accuracy: 0.9787\n",
            "Epoch 234/250\n",
            "1500/1500 [==============================] - 6s 4ms/step - loss: 1.1275e-09 - accuracy: 1.0000 - val_loss: 0.3514 - val_accuracy: 0.9786\n",
            "Epoch 235/250\n",
            "1500/1500 [==============================] - 8s 5ms/step - loss: 1.1176e-09 - accuracy: 1.0000 - val_loss: 0.3524 - val_accuracy: 0.9784\n",
            "Epoch 236/250\n",
            "1500/1500 [==============================] - 6s 4ms/step - loss: 1.1822e-09 - accuracy: 1.0000 - val_loss: 0.3528 - val_accuracy: 0.9783\n",
            "Epoch 237/250\n",
            "1500/1500 [==============================] - 8s 6ms/step - loss: 1.1499e-09 - accuracy: 1.0000 - val_loss: 0.3529 - val_accuracy: 0.9785\n",
            "Epoch 238/250\n",
            "1500/1500 [==============================] - 6s 4ms/step - loss: 1.1300e-09 - accuracy: 1.0000 - val_loss: 0.3532 - val_accuracy: 0.9783\n",
            "Epoch 239/250\n",
            "1500/1500 [==============================] - 9s 6ms/step - loss: 1.1548e-09 - accuracy: 1.0000 - val_loss: 0.3533 - val_accuracy: 0.9784\n",
            "Epoch 240/250\n",
            "1500/1500 [==============================] - 6s 4ms/step - loss: 1.2020e-09 - accuracy: 1.0000 - val_loss: 0.3545 - val_accuracy: 0.9780\n",
            "Epoch 241/250\n",
            "1500/1500 [==============================] - 9s 6ms/step - loss: 1.2442e-09 - accuracy: 1.0000 - val_loss: 0.3541 - val_accuracy: 0.9783\n",
            "Epoch 242/250\n",
            "1500/1500 [==============================] - 6s 4ms/step - loss: 1.1971e-09 - accuracy: 1.0000 - val_loss: 0.3554 - val_accuracy: 0.9783\n",
            "Epoch 243/250\n",
            "1500/1500 [==============================] - 9s 6ms/step - loss: 1.2020e-09 - accuracy: 1.0000 - val_loss: 0.3552 - val_accuracy: 0.9782\n",
            "Epoch 244/250\n",
            "1500/1500 [==============================] - 6s 4ms/step - loss: 1.2219e-09 - accuracy: 1.0000 - val_loss: 0.3545 - val_accuracy: 0.9783\n",
            "Epoch 245/250\n",
            "1500/1500 [==============================] - 8s 6ms/step - loss: 1.2293e-09 - accuracy: 1.0000 - val_loss: 0.3550 - val_accuracy: 0.9780\n",
            "Epoch 246/250\n",
            "1500/1500 [==============================] - 7s 4ms/step - loss: 1.2368e-09 - accuracy: 1.0000 - val_loss: 0.3565 - val_accuracy: 0.9779\n",
            "Epoch 247/250\n",
            "1500/1500 [==============================] - 8s 6ms/step - loss: 1.1896e-09 - accuracy: 1.0000 - val_loss: 0.3559 - val_accuracy: 0.9782\n",
            "Epoch 248/250\n",
            "1500/1500 [==============================] - 7s 4ms/step - loss: 1.2865e-09 - accuracy: 1.0000 - val_loss: 0.3564 - val_accuracy: 0.9779\n",
            "Epoch 249/250\n",
            "1500/1500 [==============================] - 9s 6ms/step - loss: 1.2269e-09 - accuracy: 1.0000 - val_loss: 0.3569 - val_accuracy: 0.9782\n",
            "Epoch 250/250\n",
            "1500/1500 [==============================] - 6s 4ms/step - loss: 1.2790e-09 - accuracy: 1.0000 - val_loss: 0.3571 - val_accuracy: 0.9782\n"
          ]
        },
        {
          "output_type": "execute_result",
          "data": {
            "text/plain": [
              "<keras.callbacks.History at 0x7f384a4b99f0>"
            ]
          },
          "metadata": {},
          "execution_count": 29
        }
      ]
    },
    {
      "cell_type": "code",
      "source": [
        "y_prob = model.predict(x_test)"
      ],
      "metadata": {
        "colab": {
          "base_uri": "https://localhost:8080/"
        },
        "id": "_wD3ckDP2Llm",
        "outputId": "5c54b9dc-a35c-4953-949a-d531e1e66ffe"
      },
      "execution_count": null,
      "outputs": [
        {
          "output_type": "stream",
          "name": "stdout",
          "text": [
            "313/313 [==============================] - 1s 2ms/step\n"
          ]
        }
      ]
    },
    {
      "cell_type": "code",
      "source": [
        "y_pred = y_prob.argmax(axis=1)"
      ],
      "metadata": {
        "id": "zf82zDDr2Ltj"
      },
      "execution_count": null,
      "outputs": []
    },
    {
      "cell_type": "code",
      "source": [
        "from sklearn.metrics import accuracy_score\n",
        "accuracy_score(y_test,y_pred)"
      ],
      "metadata": {
        "colab": {
          "base_uri": "https://localhost:8080/"
        },
        "id": "qOemJFMC2Lw_",
        "outputId": "ae2831d6-c8be-426d-e005-3ca9e0473cae"
      },
      "execution_count": null,
      "outputs": [
        {
          "output_type": "execute_result",
          "data": {
            "text/plain": [
              "0.9794"
            ]
          },
          "metadata": {},
          "execution_count": 14
        }
      ]
    },
    {
      "cell_type": "code",
      "source": [
        "history = model.fit(x_train, y_train, epochs=100, validation_split=0.2)\n"
      ],
      "metadata": {
        "id": "oqp9gTeA2L6l",
        "colab": {
          "base_uri": "https://localhost:8080/"
        },
        "outputId": "e81b2b62-ebfb-4b87-aee0-14a240c52fdc"
      },
      "execution_count": null,
      "outputs": [
        {
          "output_type": "stream",
          "name": "stdout",
          "text": [
            "Epoch 1/100\n",
            "1500/1500 [==============================] - 8s 5ms/step - loss: 0.0010 - accuracy: 0.9997 - val_loss: 0.2278 - val_accuracy: 0.9793\n",
            "Epoch 2/100\n",
            "1500/1500 [==============================] - 6s 4ms/step - loss: 2.7665e-05 - accuracy: 1.0000 - val_loss: 0.2156 - val_accuracy: 0.9795\n",
            "Epoch 3/100\n",
            "1500/1500 [==============================] - 8s 5ms/step - loss: 6.1355e-06 - accuracy: 1.0000 - val_loss: 0.2148 - val_accuracy: 0.9799\n",
            "Epoch 4/100\n",
            "1500/1500 [==============================] - 6s 4ms/step - loss: 2.0589e-06 - accuracy: 1.0000 - val_loss: 0.2149 - val_accuracy: 0.9800\n",
            "Epoch 5/100\n",
            "1500/1500 [==============================] - 7s 5ms/step - loss: 1.3842e-06 - accuracy: 1.0000 - val_loss: 0.2155 - val_accuracy: 0.9800\n",
            "Epoch 6/100\n",
            "1500/1500 [==============================] - 6s 4ms/step - loss: 9.3755e-07 - accuracy: 1.0000 - val_loss: 0.2157 - val_accuracy: 0.9801\n",
            "Epoch 7/100\n",
            "1500/1500 [==============================] - 7s 5ms/step - loss: 6.7557e-07 - accuracy: 1.0000 - val_loss: 0.2177 - val_accuracy: 0.9800\n",
            "Epoch 8/100\n",
            "1500/1500 [==============================] - 7s 5ms/step - loss: 0.0010 - accuracy: 0.9997 - val_loss: 0.3566 - val_accuracy: 0.9704\n",
            "Epoch 9/100\n",
            "1500/1500 [==============================] - 7s 5ms/step - loss: 0.0064 - accuracy: 0.9987 - val_loss: 0.2388 - val_accuracy: 0.9787\n",
            "Epoch 10/100\n",
            "1500/1500 [==============================] - 7s 5ms/step - loss: 1.4182e-04 - accuracy: 1.0000 - val_loss: 0.2330 - val_accuracy: 0.9796\n",
            "Epoch 11/100\n",
            "1500/1500 [==============================] - 6s 4ms/step - loss: 9.8909e-06 - accuracy: 1.0000 - val_loss: 0.2304 - val_accuracy: 0.9795\n",
            "Epoch 12/100\n",
            "1500/1500 [==============================] - 7s 5ms/step - loss: 2.8400e-06 - accuracy: 1.0000 - val_loss: 0.2298 - val_accuracy: 0.9797\n",
            "Epoch 13/100\n",
            "1500/1500 [==============================] - 6s 4ms/step - loss: 1.8363e-06 - accuracy: 1.0000 - val_loss: 0.2290 - val_accuracy: 0.9800\n",
            "Epoch 14/100\n",
            "1500/1500 [==============================] - 8s 5ms/step - loss: 1.2834e-06 - accuracy: 1.0000 - val_loss: 0.2279 - val_accuracy: 0.9802\n",
            "Epoch 15/100\n",
            "1500/1500 [==============================] - 6s 4ms/step - loss: 9.1384e-07 - accuracy: 1.0000 - val_loss: 0.2297 - val_accuracy: 0.9801\n",
            "Epoch 16/100\n",
            "1500/1500 [==============================] - 8s 5ms/step - loss: 5.9154e-07 - accuracy: 1.0000 - val_loss: 0.2286 - val_accuracy: 0.9803\n",
            "Epoch 17/100\n",
            "1500/1500 [==============================] - 6s 4ms/step - loss: 3.9635e-07 - accuracy: 1.0000 - val_loss: 0.2286 - val_accuracy: 0.9806\n",
            "Epoch 18/100\n",
            "1500/1500 [==============================] - 8s 5ms/step - loss: 2.6809e-07 - accuracy: 1.0000 - val_loss: 0.2296 - val_accuracy: 0.9808\n",
            "Epoch 19/100\n",
            "1500/1500 [==============================] - 6s 4ms/step - loss: 2.1353e-07 - accuracy: 1.0000 - val_loss: 0.2281 - val_accuracy: 0.9807\n",
            "Epoch 20/100\n",
            "1500/1500 [==============================] - 8s 5ms/step - loss: 0.0051 - accuracy: 0.9989 - val_loss: 0.2591 - val_accuracy: 0.9770\n",
            "Epoch 21/100\n",
            "1500/1500 [==============================] - 6s 4ms/step - loss: 0.0027 - accuracy: 0.9994 - val_loss: 0.2698 - val_accuracy: 0.9751\n",
            "Epoch 22/100\n",
            "1500/1500 [==============================] - 8s 5ms/step - loss: 0.0028 - accuracy: 0.9992 - val_loss: 0.2515 - val_accuracy: 0.9783\n",
            "Epoch 23/100\n",
            "1500/1500 [==============================] - 6s 4ms/step - loss: 7.5553e-04 - accuracy: 0.9998 - val_loss: 0.2664 - val_accuracy: 0.9765\n",
            "Epoch 24/100\n",
            "1500/1500 [==============================] - 8s 5ms/step - loss: 0.0018 - accuracy: 0.9995 - val_loss: 0.2655 - val_accuracy: 0.9769\n",
            "Epoch 25/100\n",
            "1500/1500 [==============================] - 13s 8ms/step - loss: 0.0015 - accuracy: 0.9996 - val_loss: 0.2825 - val_accuracy: 0.9768\n",
            "Epoch 26/100\n",
            "1500/1500 [==============================] - 14s 9ms/step - loss: 0.0023 - accuracy: 0.9995 - val_loss: 0.2724 - val_accuracy: 0.9765\n",
            "Epoch 27/100\n",
            "1500/1500 [==============================] - 7s 5ms/step - loss: 8.6620e-04 - accuracy: 0.9998 - val_loss: 0.2627 - val_accuracy: 0.9781\n",
            "Epoch 28/100\n",
            "1500/1500 [==============================] - 7s 5ms/step - loss: 0.0010 - accuracy: 0.9996 - val_loss: 0.2707 - val_accuracy: 0.9771\n",
            "Epoch 29/100\n",
            "1500/1500 [==============================] - 7s 5ms/step - loss: 0.0019 - accuracy: 0.9995 - val_loss: 0.2827 - val_accuracy: 0.9767\n",
            "Epoch 30/100\n",
            "1500/1500 [==============================] - 7s 4ms/step - loss: 0.0016 - accuracy: 0.9994 - val_loss: 0.2949 - val_accuracy: 0.9753\n",
            "Epoch 31/100\n",
            "1500/1500 [==============================] - 7s 5ms/step - loss: 0.0022 - accuracy: 0.9993 - val_loss: 0.2601 - val_accuracy: 0.9779\n",
            "Epoch 32/100\n",
            "1500/1500 [==============================] - 7s 4ms/step - loss: 9.6907e-04 - accuracy: 0.9998 - val_loss: 0.2947 - val_accuracy: 0.9769\n",
            "Epoch 33/100\n",
            "1500/1500 [==============================] - 7s 5ms/step - loss: 0.0021 - accuracy: 0.9995 - val_loss: 0.2747 - val_accuracy: 0.9781\n",
            "Epoch 34/100\n",
            "1500/1500 [==============================] - 6s 4ms/step - loss: 6.5625e-04 - accuracy: 0.9999 - val_loss: 0.2639 - val_accuracy: 0.9779\n",
            "Epoch 35/100\n",
            "1500/1500 [==============================] - 8s 5ms/step - loss: 0.0022 - accuracy: 0.9995 - val_loss: 0.2917 - val_accuracy: 0.9778\n",
            "Epoch 36/100\n",
            "1500/1500 [==============================] - 6s 4ms/step - loss: 0.0018 - accuracy: 0.9994 - val_loss: 0.3160 - val_accuracy: 0.9767\n",
            "Epoch 37/100\n",
            "1500/1500 [==============================] - 8s 5ms/step - loss: 2.6584e-04 - accuracy: 0.9999 - val_loss: 0.2791 - val_accuracy: 0.9773\n",
            "Epoch 38/100\n",
            "1500/1500 [==============================] - 6s 4ms/step - loss: 0.0019 - accuracy: 0.9995 - val_loss: 0.2642 - val_accuracy: 0.9783\n",
            "Epoch 39/100\n",
            "1500/1500 [==============================] - 8s 5ms/step - loss: 0.0020 - accuracy: 0.9994 - val_loss: 0.2949 - val_accuracy: 0.9760\n",
            "Epoch 40/100\n",
            "1500/1500 [==============================] - 6s 4ms/step - loss: 0.0018 - accuracy: 0.9995 - val_loss: 0.3049 - val_accuracy: 0.9760\n",
            "Epoch 41/100\n",
            "1500/1500 [==============================] - 8s 5ms/step - loss: 8.0378e-04 - accuracy: 0.9997 - val_loss: 0.3041 - val_accuracy: 0.9781\n",
            "Epoch 42/100\n",
            "1500/1500 [==============================] - 6s 4ms/step - loss: 2.9328e-05 - accuracy: 1.0000 - val_loss: 0.2957 - val_accuracy: 0.9775\n",
            "Epoch 43/100\n",
            "1500/1500 [==============================] - 8s 5ms/step - loss: 1.6868e-06 - accuracy: 1.0000 - val_loss: 0.2940 - val_accuracy: 0.9778\n",
            "Epoch 44/100\n",
            "1500/1500 [==============================] - 6s 4ms/step - loss: 9.6071e-07 - accuracy: 1.0000 - val_loss: 0.2923 - val_accuracy: 0.9778\n",
            "Epoch 45/100\n",
            "1500/1500 [==============================] - 8s 5ms/step - loss: 6.6061e-07 - accuracy: 1.0000 - val_loss: 0.2912 - val_accuracy: 0.9779\n",
            "Epoch 46/100\n",
            "1500/1500 [==============================] - 6s 4ms/step - loss: 4.6030e-07 - accuracy: 1.0000 - val_loss: 0.2887 - val_accuracy: 0.9781\n",
            "Epoch 47/100\n",
            "1500/1500 [==============================] - 8s 5ms/step - loss: 2.9307e-07 - accuracy: 1.0000 - val_loss: 0.2877 - val_accuracy: 0.9779\n",
            "Epoch 48/100\n",
            "1500/1500 [==============================] - 6s 4ms/step - loss: 1.9446e-07 - accuracy: 1.0000 - val_loss: 0.2863 - val_accuracy: 0.9782\n",
            "Epoch 49/100\n",
            "1500/1500 [==============================] - 8s 5ms/step - loss: 1.1951e-07 - accuracy: 1.0000 - val_loss: 0.2838 - val_accuracy: 0.9782\n",
            "Epoch 50/100\n",
            "1500/1500 [==============================] - 6s 4ms/step - loss: 8.2189e-08 - accuracy: 1.0000 - val_loss: 0.2841 - val_accuracy: 0.9783\n",
            "Epoch 51/100\n",
            "1500/1500 [==============================] - 8s 5ms/step - loss: 6.7583e-08 - accuracy: 1.0000 - val_loss: 0.2822 - val_accuracy: 0.9789\n",
            "Epoch 52/100\n",
            "1500/1500 [==============================] - 6s 4ms/step - loss: 3.6207e-08 - accuracy: 1.0000 - val_loss: 0.2830 - val_accuracy: 0.9786\n",
            "Epoch 53/100\n",
            "1500/1500 [==============================] - 9s 6ms/step - loss: 0.0063 - accuracy: 0.9986 - val_loss: 0.3323 - val_accuracy: 0.9765\n",
            "Epoch 54/100\n",
            "1500/1500 [==============================] - 6s 4ms/step - loss: 0.0014 - accuracy: 0.9996 - val_loss: 0.3333 - val_accuracy: 0.9744\n",
            "Epoch 55/100\n",
            "1500/1500 [==============================] - 8s 5ms/step - loss: 0.0031 - accuracy: 0.9993 - val_loss: 0.3226 - val_accuracy: 0.9752\n",
            "Epoch 56/100\n",
            "1500/1500 [==============================] - 6s 4ms/step - loss: 9.3136e-04 - accuracy: 0.9997 - val_loss: 0.3231 - val_accuracy: 0.9772\n",
            "Epoch 57/100\n",
            "1500/1500 [==============================] - 8s 5ms/step - loss: 0.0020 - accuracy: 0.9994 - val_loss: 0.3078 - val_accuracy: 0.9784\n",
            "Epoch 58/100\n",
            "1500/1500 [==============================] - 6s 4ms/step - loss: 0.0014 - accuracy: 0.9997 - val_loss: 0.3031 - val_accuracy: 0.9778\n",
            "Epoch 59/100\n",
            "1500/1500 [==============================] - 8s 5ms/step - loss: 3.1957e-04 - accuracy: 0.9999 - val_loss: 0.2925 - val_accuracy: 0.9789\n",
            "Epoch 60/100\n",
            "1500/1500 [==============================] - 6s 4ms/step - loss: 2.9996e-05 - accuracy: 1.0000 - val_loss: 0.2948 - val_accuracy: 0.9790\n",
            "Epoch 61/100\n",
            "1500/1500 [==============================] - 8s 5ms/step - loss: 8.2264e-04 - accuracy: 0.9998 - val_loss: 0.3308 - val_accuracy: 0.9760\n",
            "Epoch 62/100\n",
            "1500/1500 [==============================] - 6s 4ms/step - loss: 0.0028 - accuracy: 0.9991 - val_loss: 0.3202 - val_accuracy: 0.9769\n",
            "Epoch 63/100\n",
            "1500/1500 [==============================] - 8s 5ms/step - loss: 0.0011 - accuracy: 0.9997 - val_loss: 0.3143 - val_accuracy: 0.9766\n",
            "Epoch 64/100\n",
            "1500/1500 [==============================] - 8s 5ms/step - loss: 5.6163e-04 - accuracy: 0.9998 - val_loss: 0.3092 - val_accuracy: 0.9783\n",
            "Epoch 65/100\n",
            "1500/1500 [==============================] - 8s 5ms/step - loss: 5.7312e-06 - accuracy: 1.0000 - val_loss: 0.3032 - val_accuracy: 0.9795\n",
            "Epoch 66/100\n",
            "1500/1500 [==============================] - 6s 4ms/step - loss: 8.6727e-07 - accuracy: 1.0000 - val_loss: 0.3024 - val_accuracy: 0.9794\n",
            "Epoch 67/100\n",
            "1500/1500 [==============================] - 8s 5ms/step - loss: 5.4645e-07 - accuracy: 1.0000 - val_loss: 0.3013 - val_accuracy: 0.9793\n",
            "Epoch 68/100\n",
            "1500/1500 [==============================] - 6s 4ms/step - loss: 3.5866e-07 - accuracy: 1.0000 - val_loss: 0.3005 - val_accuracy: 0.9794\n",
            "Epoch 69/100\n",
            "1500/1500 [==============================] - 8s 5ms/step - loss: 2.3890e-07 - accuracy: 1.0000 - val_loss: 0.2996 - val_accuracy: 0.9794\n",
            "Epoch 70/100\n",
            "1500/1500 [==============================] - 6s 4ms/step - loss: 1.5538e-07 - accuracy: 1.0000 - val_loss: 0.2988 - val_accuracy: 0.9796\n",
            "Epoch 71/100\n",
            "1500/1500 [==============================] - 8s 6ms/step - loss: 1.0191e-07 - accuracy: 1.0000 - val_loss: 0.2973 - val_accuracy: 0.9796\n",
            "Epoch 72/100\n",
            "1500/1500 [==============================] - 6s 4ms/step - loss: 6.6769e-08 - accuracy: 1.0000 - val_loss: 0.2975 - val_accuracy: 0.9801\n",
            "Epoch 73/100\n",
            "1500/1500 [==============================] - 8s 5ms/step - loss: 4.5014e-08 - accuracy: 1.0000 - val_loss: 0.2973 - val_accuracy: 0.9793\n",
            "Epoch 74/100\n",
            "1500/1500 [==============================] - 6s 4ms/step - loss: 2.7607e-08 - accuracy: 1.0000 - val_loss: 0.2958 - val_accuracy: 0.9794\n",
            "Epoch 75/100\n",
            "1500/1500 [==============================] - 8s 5ms/step - loss: 1.7938e-08 - accuracy: 1.0000 - val_loss: 0.2965 - val_accuracy: 0.9796\n",
            "Epoch 76/100\n",
            "1500/1500 [==============================] - 6s 4ms/step - loss: 1.1985e-08 - accuracy: 1.0000 - val_loss: 0.2959 - val_accuracy: 0.9799\n",
            "Epoch 77/100\n",
            "1500/1500 [==============================] - 8s 6ms/step - loss: 8.2379e-09 - accuracy: 1.0000 - val_loss: 0.2962 - val_accuracy: 0.9801\n",
            "Epoch 78/100\n",
            "1500/1500 [==============================] - 6s 4ms/step - loss: 6.0995e-09 - accuracy: 1.0000 - val_loss: 0.2969 - val_accuracy: 0.9798\n",
            "Epoch 79/100\n",
            "1500/1500 [==============================] - 8s 5ms/step - loss: 4.5151e-09 - accuracy: 1.0000 - val_loss: 0.2975 - val_accuracy: 0.9797\n",
            "Epoch 80/100\n",
            "1500/1500 [==============================] - 6s 4ms/step - loss: 3.7650e-09 - accuracy: 1.0000 - val_loss: 0.2978 - val_accuracy: 0.9798\n",
            "Epoch 81/100\n",
            "1500/1500 [==============================] - 8s 5ms/step - loss: 3.0100e-09 - accuracy: 1.0000 - val_loss: 0.2981 - val_accuracy: 0.9797\n",
            "Epoch 82/100\n",
            "1500/1500 [==============================] - 6s 4ms/step - loss: 2.5630e-09 - accuracy: 1.0000 - val_loss: 0.2991 - val_accuracy: 0.9797\n",
            "Epoch 83/100\n",
            "1500/1500 [==============================] - 8s 5ms/step - loss: 2.2526e-09 - accuracy: 1.0000 - val_loss: 0.2986 - val_accuracy: 0.9797\n",
            "Epoch 84/100\n",
            "1500/1500 [==============================] - 6s 4ms/step - loss: 1.9694e-09 - accuracy: 1.0000 - val_loss: 0.2989 - val_accuracy: 0.9796\n",
            "Epoch 85/100\n",
            "1500/1500 [==============================] - 7s 5ms/step - loss: 1.7534e-09 - accuracy: 1.0000 - val_loss: 0.2993 - val_accuracy: 0.9797\n",
            "Epoch 86/100\n",
            "1500/1500 [==============================] - 7s 5ms/step - loss: 1.5646e-09 - accuracy: 1.0000 - val_loss: 0.2991 - val_accuracy: 0.9797\n",
            "Epoch 87/100\n",
            "1500/1500 [==============================] - 7s 5ms/step - loss: 1.4404e-09 - accuracy: 1.0000 - val_loss: 0.2998 - val_accuracy: 0.9797\n",
            "Epoch 88/100\n",
            "1500/1500 [==============================] - 7s 4ms/step - loss: 1.3659e-09 - accuracy: 1.0000 - val_loss: 0.2993 - val_accuracy: 0.9797\n",
            "Epoch 89/100\n",
            "1500/1500 [==============================] - 7s 5ms/step - loss: 1.2343e-09 - accuracy: 1.0000 - val_loss: 0.2998 - val_accuracy: 0.9797\n",
            "Epoch 90/100\n",
            "1500/1500 [==============================] - 7s 5ms/step - loss: 1.1424e-09 - accuracy: 1.0000 - val_loss: 0.2998 - val_accuracy: 0.9797\n",
            "Epoch 91/100\n",
            "1500/1500 [==============================] - 7s 5ms/step - loss: 1.0555e-09 - accuracy: 1.0000 - val_loss: 0.3001 - val_accuracy: 0.9797\n",
            "Epoch 92/100\n",
            "1500/1500 [==============================] - 7s 4ms/step - loss: 9.9589e-10 - accuracy: 1.0000 - val_loss: 0.3005 - val_accuracy: 0.9797\n",
            "Epoch 93/100\n",
            "1500/1500 [==============================] - 7s 5ms/step - loss: 9.4126e-10 - accuracy: 1.0000 - val_loss: 0.3004 - val_accuracy: 0.9797\n",
            "Epoch 94/100\n",
            "1500/1500 [==============================] - 7s 5ms/step - loss: 8.9407e-10 - accuracy: 1.0000 - val_loss: 0.3006 - val_accuracy: 0.9797\n",
            "Epoch 95/100\n",
            "1500/1500 [==============================] - 7s 5ms/step - loss: 8.1211e-10 - accuracy: 1.0000 - val_loss: 0.3011 - val_accuracy: 0.9797\n",
            "Epoch 96/100\n",
            "1500/1500 [==============================] - 7s 5ms/step - loss: 8.3943e-10 - accuracy: 1.0000 - val_loss: 0.3012 - val_accuracy: 0.9795\n",
            "Epoch 97/100\n",
            "1500/1500 [==============================] - 7s 5ms/step - loss: 7.6244e-10 - accuracy: 1.0000 - val_loss: 0.3012 - val_accuracy: 0.9797\n",
            "Epoch 98/100\n",
            "1500/1500 [==============================] - 7s 5ms/step - loss: 7.2767e-10 - accuracy: 1.0000 - val_loss: 0.3014 - val_accuracy: 0.9795\n",
            "Epoch 99/100\n",
            "1500/1500 [==============================] - 7s 5ms/step - loss: 7.2022e-10 - accuracy: 1.0000 - val_loss: 0.3014 - val_accuracy: 0.9796\n",
            "Epoch 100/100\n",
            "1500/1500 [==============================] - 7s 5ms/step - loss: 6.7552e-10 - accuracy: 1.0000 - val_loss: 0.3017 - val_accuracy: 0.9796\n"
          ]
        }
      ]
    },
    {
      "cell_type": "code",
      "source": [
        "plt.plot(history.history['loss'])\n",
        "plt.plot(history.history['val_loss'])"
      ],
      "metadata": {
        "id": "HgoEmzwK2L9o",
        "colab": {
          "base_uri": "https://localhost:8080/",
          "height": 448
        },
        "outputId": "a9f1cb74-093c-45cd-ad32-a0cf0678c55f"
      },
      "execution_count": null,
      "outputs": [
        {
          "output_type": "execute_result",
          "data": {
            "text/plain": [
              "[<matplotlib.lines.Line2D at 0x7f3845dab430>]"
            ]
          },
          "metadata": {},
          "execution_count": 16
        },
        {
          "output_type": "display_data",
          "data": {
            "text/plain": [
              "<Figure size 640x480 with 1 Axes>"
            ],
            "image/png": "[encoded data removed]"
          },
          "metadata": {}
        }
      ]
    },
    {
      "cell_type": "code",
      "source": [
        "from sklearn.metrics import accuracy_score\n",
        "accuracy_score(y_test,y_pred)"
      ],
      "metadata": {
        "colab": {
          "base_uri": "https://localhost:8080/"
        },
        "id": "2uVsNh_MfwIG",
        "outputId": "26f3f14d-56dd-42fc-84f9-0e3d4d54f784"
      },
      "execution_count": null,
      "outputs": [
        {
          "output_type": "execute_result",
          "data": {
            "text/plain": [
              "0.9794"
            ]
          },
          "metadata": {},
          "execution_count": 17
        }
      ]
    },
    {
      "cell_type": "code",
      "source": [
        "x_test[0]"
      ],
      "metadata": {
        "colab": {
          "base_uri": "https://localhost:8080/"
        },
        "id": "XBEVY_0MLeSD",
        "outputId": "6e295b56-b8f1-4d34-ca8e-e9af33383d12"
      },
      "execution_count": null,
      "outputs": [
        {
          "output_type": "execute_result",
          "data": {
            "text/plain": [
              "array([[0.        , 0.        , 0.        , 0.        , 0.        ,\n",
              "        0.        , 0.        , 0.        , 0.        , 0.        ,\n",
              "        0.        , 0.        , 0.        , 0.        , 0.        ,\n",
              "        0.        , 0.        , 0.        , 0.        , 0.        ,\n",
              "        0.        , 0.        , 0.        , 0.        , 0.        ,\n",
              "        0.        , 0.        , 0.        ],\n",
              "       [0.        , 0.        , 0.        , 0.        , 0.        ,\n",
              "        0.        , 0.        , 0.        , 0.        , 0.        ,\n",
              "        0.        , 0.        , 0.        , 0.        , 0.        ,\n",
              "        0.        , 0.        , 0.        , 0.        , 0.        ,\n",
              "        0.        , 0.        , 0.        , 0.        , 0.        ,\n",
              "        0.        , 0.        , 0.        ],\n",
              "       [0.        , 0.        , 0.        , 0.        , 0.        ,\n",
              "        0.        , 0.        , 0.        , 0.        , 0.        ,\n",
              "        0.        , 0.        , 0.        , 0.        , 0.        ,\n",
              "        0.        , 0.        , 0.        , 0.        , 0.        ,\n",
              "        0.        , 0.        , 0.        , 0.        , 0.        ,\n",
              "        0.        , 0.        , 0.        ],\n",
              "       [0.        , 0.        , 0.        , 0.        , 0.        ,\n",
              "        0.        , 0.        , 0.        , 0.        , 0.        ,\n",
              "        0.        , 0.        , 0.        , 0.        , 0.        ,\n",
              "        0.        , 0.        , 0.        , 0.        , 0.        ,\n",
              "        0.        , 0.        , 0.        , 0.        , 0.        ,\n",
              "        0.        , 0.        , 0.        ],\n",
              "       [0.        , 0.        , 0.        , 0.        , 0.        ,\n",
              "        0.        , 0.        , 0.        , 0.        , 0.        ,\n",
              "        0.        , 0.        , 0.        , 0.        , 0.        ,\n",
              "        0.        , 0.        , 0.        , 0.        , 0.        ,\n",
              "        0.        , 0.        , 0.        , 0.        , 0.        ,\n",
              "        0.        , 0.        , 0.        ],\n",
              "       [0.        , 0.        , 0.        , 0.        , 0.        ,\n",
              "        0.        , 0.        , 0.        , 0.        , 0.        ,\n",
              "        0.        , 0.        , 0.        , 0.        , 0.        ,\n",
              "        0.        , 0.        , 0.        , 0.        , 0.        ,\n",
              "        0.        , 0.        , 0.        , 0.        , 0.        ,\n",
              "        0.        , 0.        , 0.        ],\n",
              "       [0.        , 0.        , 0.        , 0.        , 0.        ,\n",
              "        0.        , 0.        , 0.        , 0.        , 0.        ,\n",
              "        0.        , 0.        , 0.        , 0.        , 0.        ,\n",
              "        0.        , 0.        , 0.        , 0.        , 0.        ,\n",
              "        0.        , 0.        , 0.        , 0.        , 0.        ,\n",
              "        0.        , 0.        , 0.        ],\n",
              "       [0.        , 0.        , 0.        , 0.        , 0.        ,\n",
              "        0.        , 0.32941176, 0.7254902 , 0.62352941, 0.59215686,\n",
              "        0.23529412, 0.14117647, 0.        , 0.        , 0.        ,\n",
              "        0.        , 0.        , 0.        , 0.        , 0.        ,\n",
              "        0.        , 0.        , 0.        , 0.        , 0.        ,\n",
              "        0.        , 0.        , 0.        ],\n",
              "       [0.        , 0.        , 0.        , 0.        , 0.        ,\n",
              "        0.        , 0.87058824, 0.99607843, 0.99607843, 0.99607843,\n",
              "        0.99607843, 0.94509804, 0.77647059, 0.77647059, 0.77647059,\n",
              "        0.77647059, 0.77647059, 0.77647059, 0.77647059, 0.77647059,\n",
              "        0.66666667, 0.20392157, 0.        , 0.        , 0.        ,\n",
              "        0.        , 0.        , 0.        ],\n",
              "       [0.        , 0.        , 0.        , 0.        , 0.        ,\n",
              "        0.        , 0.2627451 , 0.44705882, 0.28235294, 0.44705882,\n",
              "        0.63921569, 0.89019608, 0.99607843, 0.88235294, 0.99607843,\n",
              "        0.99607843, 0.99607843, 0.98039216, 0.89803922, 0.99607843,\n",
              "        0.99607843, 0.54901961, 0.        , 0.        , 0.        ,\n",
              "        0.        , 0.        , 0.        ],\n",
              "       [0.        , 0.        , 0.        , 0.        , 0.        ,\n",
              "        0.        , 0.        , 0.        , 0.        , 0.        ,\n",
              "        0.        , 0.06666667, 0.25882353, 0.05490196, 0.2627451 ,\n",
              "        0.2627451 , 0.2627451 , 0.23137255, 0.08235294, 0.9254902 ,\n",
              "        0.99607843, 0.41568627, 0.        , 0.        , 0.        ,\n",
              "        0.        , 0.        , 0.        ],\n",
              "       [0.        , 0.        , 0.        , 0.        , 0.        ,\n",
              "        0.        , 0.        , 0.        , 0.        , 0.        ,\n",
              "        0.        , 0.        , 0.        , 0.        , 0.        ,\n",
              "        0.        , 0.        , 0.        , 0.3254902 , 0.99215686,\n",
              "        0.81960784, 0.07058824, 0.        , 0.        , 0.        ,\n",
              "        0.        , 0.        , 0.        ],\n",
              "       [0.        , 0.        , 0.        , 0.        , 0.        ,\n",
              "        0.        , 0.        , 0.        , 0.        , 0.        ,\n",
              "        0.        , 0.        , 0.        , 0.        , 0.        ,\n",
              "        0.        , 0.        , 0.08627451, 0.91372549, 1.        ,\n",
              "        0.3254902 , 0.        , 0.        , 0.        , 0.        ,\n",
              "        0.        , 0.        , 0.        ],\n",
              "       [0.        , 0.        , 0.        , 0.        , 0.        ,\n",
              "        0.        , 0.        , 0.        , 0.        , 0.        ,\n",
              "        0.        , 0.        , 0.        , 0.        , 0.        ,\n",
              "        0.        , 0.        , 0.50588235, 0.99607843, 0.93333333,\n",
              "        0.17254902, 0.        , 0.        , 0.        , 0.        ,\n",
              "        0.        , 0.        , 0.        ],\n",
              "       [0.        , 0.        , 0.        , 0.        , 0.        ,\n",
              "        0.        , 0.        , 0.        , 0.        , 0.        ,\n",
              "        0.        , 0.        , 0.        , 0.        , 0.        ,\n",
              "        0.        , 0.23137255, 0.97647059, 0.99607843, 0.24313725,\n",
              "        0.        , 0.        , 0.        , 0.        , 0.        ,\n",
              "        0.        , 0.        , 0.        ],\n",
              "       [0.        , 0.        , 0.        , 0.        , 0.        ,\n",
              "        0.        , 0.        , 0.        , 0.        , 0.        ,\n",
              "        0.        , 0.        , 0.        , 0.        , 0.        ,\n",
              "        0.        , 0.52156863, 0.99607843, 0.73333333, 0.01960784,\n",
              "        0.        , 0.        , 0.        , 0.        , 0.        ,\n",
              "        0.        , 0.        , 0.        ],\n",
              "       [0.        , 0.        , 0.        , 0.        , 0.        ,\n",
              "        0.        , 0.        , 0.        , 0.        , 0.        ,\n",
              "        0.        , 0.        , 0.        , 0.        , 0.        ,\n",
              "        0.03529412, 0.80392157, 0.97254902, 0.22745098, 0.        ,\n",
              "        0.        , 0.        , 0.        , 0.        , 0.        ,\n",
              "        0.        , 0.        , 0.        ],\n",
              "       [0.        , 0.        , 0.        , 0.        , 0.        ,\n",
              "        0.        , 0.        , 0.        , 0.        , 0.        ,\n",
              "        0.        , 0.        , 0.        , 0.        , 0.        ,\n",
              "        0.49411765, 0.99607843, 0.71372549, 0.        , 0.        ,\n",
              "        0.        , 0.        , 0.        , 0.        , 0.        ,\n",
              "        0.        , 0.        , 0.        ],\n",
              "       [0.        , 0.        , 0.        , 0.        , 0.        ,\n",
              "        0.        , 0.        , 0.        , 0.        , 0.        ,\n",
              "        0.        , 0.        , 0.        , 0.        , 0.29411765,\n",
              "        0.98431373, 0.94117647, 0.22352941, 0.        , 0.        ,\n",
              "        0.        , 0.        , 0.        , 0.        , 0.        ,\n",
              "        0.        , 0.        , 0.        ],\n",
              "       [0.        , 0.        , 0.        , 0.        , 0.        ,\n",
              "        0.        , 0.        , 0.        , 0.        , 0.        ,\n",
              "        0.        , 0.        , 0.        , 0.0745098 , 0.86666667,\n",
              "        0.99607843, 0.65098039, 0.        , 0.        , 0.        ,\n",
              "        0.        , 0.        , 0.        , 0.        , 0.        ,\n",
              "        0.        , 0.        , 0.        ],\n",
              "       [0.        , 0.        , 0.        , 0.        , 0.        ,\n",
              "        0.        , 0.        , 0.        , 0.        , 0.        ,\n",
              "        0.        , 0.        , 0.01176471, 0.79607843, 0.99607843,\n",
              "        0.85882353, 0.1372549 , 0.        , 0.        , 0.        ,\n",
              "        0.        , 0.        , 0.        , 0.        , 0.        ,\n",
              "        0.        , 0.        , 0.        ],\n",
              "       [0.        , 0.        , 0.        , 0.        , 0.        ,\n",
              "        0.        , 0.        , 0.        , 0.        , 0.        ,\n",
              "        0.        , 0.        , 0.14901961, 0.99607843, 0.99607843,\n",
              "        0.30196078, 0.        , 0.        , 0.        , 0.        ,\n",
              "        0.        , 0.        , 0.        , 0.        , 0.        ,\n",
              "        0.        , 0.        , 0.        ],\n",
              "       [0.        , 0.        , 0.        , 0.        , 0.        ,\n",
              "        0.        , 0.        , 0.        , 0.        , 0.        ,\n",
              "        0.        , 0.12156863, 0.87843137, 0.99607843, 0.45098039,\n",
              "        0.00392157, 0.        , 0.        , 0.        , 0.        ,\n",
              "        0.        , 0.        , 0.        , 0.        , 0.        ,\n",
              "        0.        , 0.        , 0.        ],\n",
              "       [0.        , 0.        , 0.        , 0.        , 0.        ,\n",
              "        0.        , 0.        , 0.        , 0.        , 0.        ,\n",
              "        0.        , 0.52156863, 0.99607843, 0.99607843, 0.20392157,\n",
              "        0.        , 0.        , 0.        , 0.        , 0.        ,\n",
              "        0.        , 0.        , 0.        , 0.        , 0.        ,\n",
              "        0.        , 0.        , 0.        ],\n",
              "       [0.        , 0.        , 0.        , 0.        , 0.        ,\n",
              "        0.        , 0.        , 0.        , 0.        , 0.        ,\n",
              "        0.23921569, 0.94901961, 0.99607843, 0.99607843, 0.20392157,\n",
              "        0.        , 0.        , 0.        , 0.        , 0.        ,\n",
              "        0.        , 0.        , 0.        , 0.        , 0.        ,\n",
              "        0.        , 0.        , 0.        ],\n",
              "       [0.        , 0.        , 0.        , 0.        , 0.        ,\n",
              "        0.        , 0.        , 0.        , 0.        , 0.        ,\n",
              "        0.4745098 , 0.99607843, 0.99607843, 0.85882353, 0.15686275,\n",
              "        0.        , 0.        , 0.        , 0.        , 0.        ,\n",
              "        0.        , 0.        , 0.        , 0.        , 0.        ,\n",
              "        0.        , 0.        , 0.        ],\n",
              "       [0.        , 0.        , 0.        , 0.        , 0.        ,\n",
              "        0.        , 0.        , 0.        , 0.        , 0.        ,\n",
              "        0.4745098 , 0.99607843, 0.81176471, 0.07058824, 0.        ,\n",
              "        0.        , 0.        , 0.        , 0.        , 0.        ,\n",
              "        0.        , 0.        , 0.        , 0.        , 0.        ,\n",
              "        0.        , 0.        , 0.        ],\n",
              "       [0.        , 0.        , 0.        , 0.        , 0.        ,\n",
              "        0.        , 0.        , 0.        , 0.        , 0.        ,\n",
              "        0.        , 0.        , 0.        , 0.        , 0.        ,\n",
              "        0.        , 0.        , 0.        , 0.        , 0.        ,\n",
              "        0.        , 0.        , 0.        , 0.        , 0.        ,\n",
              "        0.        , 0.        , 0.        ]])"
            ]
          },
          "metadata": {},
          "execution_count": 18
        }
      ]
    },
    {
      "cell_type": "code",
      "source": [
        "plt.imshow(x_test[4])"
      ],
      "metadata": {
        "colab": {
          "base_uri": "https://localhost:8080/",
          "height": 448
        },
        "id": "cTwooSv8LegF",
        "outputId": "7ce8eae5-c423-49ae-b1e1-85934b7741e2"
      },
      "execution_count": null,
      "outputs": [
        {
          "output_type": "execute_result",
          "data": {
            "text/plain": [
              "<matplotlib.image.AxesImage at 0x7f384a672b00>"
            ]
          },
          "metadata": {},
          "execution_count": 25
        },
        {
          "output_type": "display_data",
          "data": {
            "text/plain": [
              "<Figure size 640x480 with 1 Axes>"
            ],
            "image/png": "[encoded data removed]"
          },
          "metadata": {}
        }
      ]
    },
    {
      "cell_type": "code",
      "source": [
        "model.predict(x_test[4].reshape(1,28,28)).argmax(axis=1)"
      ],
      "metadata": {
        "colab": {
          "base_uri": "https://localhost:8080/"
        },
        "id": "5_c4MxN5Oq1S",
        "outputId": "d8ea84ae-7b04-4308-a16d-01ecea68fb49"
      },
      "execution_count": null,
      "outputs": [
        {
          "output_type": "stream",
          "name": "stdout",
          "text": [
            "1/1 [==============================] - 0s 24ms/step\n"
          ]
        },
        {
          "output_type": "execute_result",
          "data": {
            "text/plain": [
              "array([4])"
            ]
          },
          "metadata": {},
          "execution_count": 26
        }
      ]
    },
    {
      "cell_type": "code",
      "source": [
        "model.save('/content/drive/MyDrive/annmodel/cnnmodel/annmodelav.h5')"
      ],
      "metadata": {
        "id": "UAHQB7YDeMxB"
      },
      "execution_count": null,
      "outputs": []
    },
    {
      "cell_type": "code",
      "source": [
        "from tensorflow.keras.models import load_model\n",
        "model.save(' ')"
      ],
      "metadata": {
        "colab": {
          "base_uri": "https://localhost:8080/",
          "height": 171
        },
        "id": "K-DFY_4yeM72",
        "outputId": "0cf133cf-757e-43c7-9ea7-660a701db070"
      },
      "execution_count": null,
      "outputs": [
        {
          "output_type": "error",
          "ename": "NameError",
          "evalue": "ignored",
          "traceback": [
            "\u001b[0;31m---------------------------------------------------------------------------\u001b[0m",
            "\u001b[0;31mNameError\u001b[0m                                 Traceback (most recent call last)",
            "\u001b[0;32m<ipython-input-32-d1a2a17c0213>\u001b[0m in \u001b[0;36m<cell line: 1>\u001b[0;34m()\u001b[0m\n\u001b[0;32m----> 1\u001b[0;31m \u001b[0mfile\u001b[0m\u001b[0;34m.\u001b[0m\u001b[0mdownload\u001b[0m\u001b[0;34m(\u001b[0m\u001b[0;34m'annmodel.h5'\u001b[0m\u001b[0;34m)\u001b[0m\u001b[0;34m\u001b[0m\u001b[0;34m\u001b[0m\u001b[0m\n\u001b[0m",
            "\u001b[0;31mNameError\u001b[0m: name 'file' is not defined"
          ]
        }
      ]
    },
    {
      "cell_type": "code",
      "source": [],
      "metadata": {
        "id": "whSAj74QeM_O",
        "colab": {
          "base_uri": "https://localhost:8080/",
          "height": 317
        },
        "outputId": "de20203a-e97f-413f-911d-08e99ecf714e"
      },
      "execution_count": null,
      "outputs": [
        {
          "output_type": "error",
          "ename": "ModuleNotFoundError",
          "evalue": "ignored",
          "traceback": [
            "\u001b[0;31m---------------------------------------------------------------------------\u001b[0m",
            "\u001b[0;31mModuleNotFoundError\u001b[0m                       Traceback (most recent call last)",
            "\u001b[0;32m<ipython-input-1-721b922949a8>\u001b[0m in \u001b[0;36m<cell line: 1>\u001b[0;34m()\u001b[0m\n\u001b[0;32m----> 1\u001b[0;31m \u001b[0;32mfrom\u001b[0m \u001b[0mgoogle\u001b[0m\u001b[0;34m.\u001b[0m\u001b[0mcollab\u001b[0m \u001b[0;32mimport\u001b[0m \u001b[0mdrive\u001b[0m\u001b[0;34m\u001b[0m\u001b[0;34m\u001b[0m\u001b[0m\n\u001b[0m",
            "\u001b[0;31mModuleNotFoundError\u001b[0m: No module named 'google.collab'",
            "",
            "\u001b[0;31m---------------------------------------------------------------------------\u001b[0;32m\nNOTE: If your import is failing due to a missing package, you can\nmanually install dependencies using either !pip or !apt.\n\nTo view examples of installing some common dependencies, click the\n\"Open Examples\" button below.\n\u001b[0;31m---------------------------------------------------------------------------\u001b[0m\n"
          ],
          "errorDetails": {
            "actions": [
              {
                "action": "open_url",
                "actionText": "Open Examples",
                "url": "/notebooks/snippets/importing_libraries.ipynb"
              }
            ]
          }
        }
      ]
    },
    {
      "cell_type": "code",
      "source": [],
      "metadata": {
        "id": "GcK31tyTeNCk"
      },
      "execution_count": null,
      "outputs": []
    }
  ]
}